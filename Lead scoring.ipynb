{
 "cells": [
  {
   "cell_type": "code",
   "execution_count": 623,
   "id": "a68a0bf6",
   "metadata": {},
   "outputs": [],
   "source": [
    "import pandas as pd\n",
    "import numpy as np\n",
    "import warnings\n",
    "warnings.filterwarnings('ignore')\n",
    "import matplotlib.pyplot as plt\n",
    "import seaborn as sns\n",
    "from sklearn.preprocessing import StandardScaler"
   ]
  },
  {
   "cell_type": "code",
   "execution_count": 624,
   "id": "16cdfd39",
   "metadata": {},
   "outputs": [
    {
     "data": {
      "text/html": [
       "<div>\n",
       "<style scoped>\n",
       "    .dataframe tbody tr th:only-of-type {\n",
       "        vertical-align: middle;\n",
       "    }\n",
       "\n",
       "    .dataframe tbody tr th {\n",
       "        vertical-align: top;\n",
       "    }\n",
       "\n",
       "    .dataframe thead th {\n",
       "        text-align: right;\n",
       "    }\n",
       "</style>\n",
       "<table border=\"1\" class=\"dataframe\">\n",
       "  <thead>\n",
       "    <tr style=\"text-align: right;\">\n",
       "      <th></th>\n",
       "      <th>Prospect ID</th>\n",
       "      <th>Lead Number</th>\n",
       "      <th>Lead Origin</th>\n",
       "      <th>Lead Source</th>\n",
       "      <th>Do Not Email</th>\n",
       "      <th>Do Not Call</th>\n",
       "      <th>Converted</th>\n",
       "      <th>TotalVisits</th>\n",
       "      <th>Total Time Spent on Website</th>\n",
       "      <th>Page Views Per Visit</th>\n",
       "      <th>Last Activity</th>\n",
       "      <th>Country</th>\n",
       "      <th>Specialization</th>\n",
       "      <th>How did you hear about X Education</th>\n",
       "      <th>What is your current occupation</th>\n",
       "      <th>What matters most to you in choosing a course</th>\n",
       "      <th>Search</th>\n",
       "      <th>Magazine</th>\n",
       "      <th>Newspaper Article</th>\n",
       "      <th>X Education Forums</th>\n",
       "      <th>Newspaper</th>\n",
       "      <th>Digital Advertisement</th>\n",
       "      <th>Through Recommendations</th>\n",
       "      <th>Receive More Updates About Our Courses</th>\n",
       "      <th>Tags</th>\n",
       "      <th>Lead Quality</th>\n",
       "      <th>Update me on Supply Chain Content</th>\n",
       "      <th>Get updates on DM Content</th>\n",
       "      <th>Lead Profile</th>\n",
       "      <th>City</th>\n",
       "      <th>Asymmetrique Activity Index</th>\n",
       "      <th>Asymmetrique Profile Index</th>\n",
       "      <th>Asymmetrique Activity Score</th>\n",
       "      <th>Asymmetrique Profile Score</th>\n",
       "      <th>I agree to pay the amount through cheque</th>\n",
       "      <th>A free copy of Mastering The Interview</th>\n",
       "      <th>Last Notable Activity</th>\n",
       "    </tr>\n",
       "  </thead>\n",
       "  <tbody>\n",
       "    <tr>\n",
       "      <th>0</th>\n",
       "      <td>7927b2df-8bba-4d29-b9a2-b6e0beafe620</td>\n",
       "      <td>660737</td>\n",
       "      <td>API</td>\n",
       "      <td>Olark Chat</td>\n",
       "      <td>No</td>\n",
       "      <td>No</td>\n",
       "      <td>0</td>\n",
       "      <td>0.0</td>\n",
       "      <td>0</td>\n",
       "      <td>0.0</td>\n",
       "      <td>Page Visited on Website</td>\n",
       "      <td>NaN</td>\n",
       "      <td>Select</td>\n",
       "      <td>Select</td>\n",
       "      <td>Unemployed</td>\n",
       "      <td>Better Career Prospects</td>\n",
       "      <td>No</td>\n",
       "      <td>No</td>\n",
       "      <td>No</td>\n",
       "      <td>No</td>\n",
       "      <td>No</td>\n",
       "      <td>No</td>\n",
       "      <td>No</td>\n",
       "      <td>No</td>\n",
       "      <td>Interested in other courses</td>\n",
       "      <td>Low in Relevance</td>\n",
       "      <td>No</td>\n",
       "      <td>No</td>\n",
       "      <td>Select</td>\n",
       "      <td>Select</td>\n",
       "      <td>02.Medium</td>\n",
       "      <td>02.Medium</td>\n",
       "      <td>15.0</td>\n",
       "      <td>15.0</td>\n",
       "      <td>No</td>\n",
       "      <td>No</td>\n",
       "      <td>Modified</td>\n",
       "    </tr>\n",
       "    <tr>\n",
       "      <th>1</th>\n",
       "      <td>2a272436-5132-4136-86fa-dcc88c88f482</td>\n",
       "      <td>660728</td>\n",
       "      <td>API</td>\n",
       "      <td>Organic Search</td>\n",
       "      <td>No</td>\n",
       "      <td>No</td>\n",
       "      <td>0</td>\n",
       "      <td>5.0</td>\n",
       "      <td>674</td>\n",
       "      <td>2.5</td>\n",
       "      <td>Email Opened</td>\n",
       "      <td>India</td>\n",
       "      <td>Select</td>\n",
       "      <td>Select</td>\n",
       "      <td>Unemployed</td>\n",
       "      <td>Better Career Prospects</td>\n",
       "      <td>No</td>\n",
       "      <td>No</td>\n",
       "      <td>No</td>\n",
       "      <td>No</td>\n",
       "      <td>No</td>\n",
       "      <td>No</td>\n",
       "      <td>No</td>\n",
       "      <td>No</td>\n",
       "      <td>Ringing</td>\n",
       "      <td>NaN</td>\n",
       "      <td>No</td>\n",
       "      <td>No</td>\n",
       "      <td>Select</td>\n",
       "      <td>Select</td>\n",
       "      <td>02.Medium</td>\n",
       "      <td>02.Medium</td>\n",
       "      <td>15.0</td>\n",
       "      <td>15.0</td>\n",
       "      <td>No</td>\n",
       "      <td>No</td>\n",
       "      <td>Email Opened</td>\n",
       "    </tr>\n",
       "    <tr>\n",
       "      <th>2</th>\n",
       "      <td>8cc8c611-a219-4f35-ad23-fdfd2656bd8a</td>\n",
       "      <td>660727</td>\n",
       "      <td>Landing Page Submission</td>\n",
       "      <td>Direct Traffic</td>\n",
       "      <td>No</td>\n",
       "      <td>No</td>\n",
       "      <td>1</td>\n",
       "      <td>2.0</td>\n",
       "      <td>1532</td>\n",
       "      <td>2.0</td>\n",
       "      <td>Email Opened</td>\n",
       "      <td>India</td>\n",
       "      <td>Business Administration</td>\n",
       "      <td>Select</td>\n",
       "      <td>Student</td>\n",
       "      <td>Better Career Prospects</td>\n",
       "      <td>No</td>\n",
       "      <td>No</td>\n",
       "      <td>No</td>\n",
       "      <td>No</td>\n",
       "      <td>No</td>\n",
       "      <td>No</td>\n",
       "      <td>No</td>\n",
       "      <td>No</td>\n",
       "      <td>Will revert after reading the email</td>\n",
       "      <td>Might be</td>\n",
       "      <td>No</td>\n",
       "      <td>No</td>\n",
       "      <td>Potential Lead</td>\n",
       "      <td>Mumbai</td>\n",
       "      <td>02.Medium</td>\n",
       "      <td>01.High</td>\n",
       "      <td>14.0</td>\n",
       "      <td>20.0</td>\n",
       "      <td>No</td>\n",
       "      <td>Yes</td>\n",
       "      <td>Email Opened</td>\n",
       "    </tr>\n",
       "    <tr>\n",
       "      <th>3</th>\n",
       "      <td>0cc2df48-7cf4-4e39-9de9-19797f9b38cc</td>\n",
       "      <td>660719</td>\n",
       "      <td>Landing Page Submission</td>\n",
       "      <td>Direct Traffic</td>\n",
       "      <td>No</td>\n",
       "      <td>No</td>\n",
       "      <td>0</td>\n",
       "      <td>1.0</td>\n",
       "      <td>305</td>\n",
       "      <td>1.0</td>\n",
       "      <td>Unreachable</td>\n",
       "      <td>India</td>\n",
       "      <td>Media and Advertising</td>\n",
       "      <td>Word Of Mouth</td>\n",
       "      <td>Unemployed</td>\n",
       "      <td>Better Career Prospects</td>\n",
       "      <td>No</td>\n",
       "      <td>No</td>\n",
       "      <td>No</td>\n",
       "      <td>No</td>\n",
       "      <td>No</td>\n",
       "      <td>No</td>\n",
       "      <td>No</td>\n",
       "      <td>No</td>\n",
       "      <td>Ringing</td>\n",
       "      <td>Not Sure</td>\n",
       "      <td>No</td>\n",
       "      <td>No</td>\n",
       "      <td>Select</td>\n",
       "      <td>Mumbai</td>\n",
       "      <td>02.Medium</td>\n",
       "      <td>01.High</td>\n",
       "      <td>13.0</td>\n",
       "      <td>17.0</td>\n",
       "      <td>No</td>\n",
       "      <td>No</td>\n",
       "      <td>Modified</td>\n",
       "    </tr>\n",
       "    <tr>\n",
       "      <th>4</th>\n",
       "      <td>3256f628-e534-4826-9d63-4a8b88782852</td>\n",
       "      <td>660681</td>\n",
       "      <td>Landing Page Submission</td>\n",
       "      <td>Google</td>\n",
       "      <td>No</td>\n",
       "      <td>No</td>\n",
       "      <td>1</td>\n",
       "      <td>2.0</td>\n",
       "      <td>1428</td>\n",
       "      <td>1.0</td>\n",
       "      <td>Converted to Lead</td>\n",
       "      <td>India</td>\n",
       "      <td>Select</td>\n",
       "      <td>Other</td>\n",
       "      <td>Unemployed</td>\n",
       "      <td>Better Career Prospects</td>\n",
       "      <td>No</td>\n",
       "      <td>No</td>\n",
       "      <td>No</td>\n",
       "      <td>No</td>\n",
       "      <td>No</td>\n",
       "      <td>No</td>\n",
       "      <td>No</td>\n",
       "      <td>No</td>\n",
       "      <td>Will revert after reading the email</td>\n",
       "      <td>Might be</td>\n",
       "      <td>No</td>\n",
       "      <td>No</td>\n",
       "      <td>Select</td>\n",
       "      <td>Mumbai</td>\n",
       "      <td>02.Medium</td>\n",
       "      <td>01.High</td>\n",
       "      <td>15.0</td>\n",
       "      <td>18.0</td>\n",
       "      <td>No</td>\n",
       "      <td>No</td>\n",
       "      <td>Modified</td>\n",
       "    </tr>\n",
       "  </tbody>\n",
       "</table>\n",
       "</div>"
      ],
      "text/plain": [
       "                            Prospect ID  Lead Number              Lead Origin  \\\n",
       "0  7927b2df-8bba-4d29-b9a2-b6e0beafe620       660737                      API   \n",
       "1  2a272436-5132-4136-86fa-dcc88c88f482       660728                      API   \n",
       "2  8cc8c611-a219-4f35-ad23-fdfd2656bd8a       660727  Landing Page Submission   \n",
       "3  0cc2df48-7cf4-4e39-9de9-19797f9b38cc       660719  Landing Page Submission   \n",
       "4  3256f628-e534-4826-9d63-4a8b88782852       660681  Landing Page Submission   \n",
       "\n",
       "      Lead Source Do Not Email Do Not Call  Converted  TotalVisits  \\\n",
       "0      Olark Chat           No          No          0          0.0   \n",
       "1  Organic Search           No          No          0          5.0   \n",
       "2  Direct Traffic           No          No          1          2.0   \n",
       "3  Direct Traffic           No          No          0          1.0   \n",
       "4          Google           No          No          1          2.0   \n",
       "\n",
       "   Total Time Spent on Website  Page Views Per Visit            Last Activity  \\\n",
       "0                            0                   0.0  Page Visited on Website   \n",
       "1                          674                   2.5             Email Opened   \n",
       "2                         1532                   2.0             Email Opened   \n",
       "3                          305                   1.0              Unreachable   \n",
       "4                         1428                   1.0        Converted to Lead   \n",
       "\n",
       "  Country           Specialization How did you hear about X Education  \\\n",
       "0     NaN                   Select                             Select   \n",
       "1   India                   Select                             Select   \n",
       "2   India  Business Administration                             Select   \n",
       "3   India    Media and Advertising                      Word Of Mouth   \n",
       "4   India                   Select                              Other   \n",
       "\n",
       "  What is your current occupation  \\\n",
       "0                      Unemployed   \n",
       "1                      Unemployed   \n",
       "2                         Student   \n",
       "3                      Unemployed   \n",
       "4                      Unemployed   \n",
       "\n",
       "  What matters most to you in choosing a course Search Magazine  \\\n",
       "0                       Better Career Prospects     No       No   \n",
       "1                       Better Career Prospects     No       No   \n",
       "2                       Better Career Prospects     No       No   \n",
       "3                       Better Career Prospects     No       No   \n",
       "4                       Better Career Prospects     No       No   \n",
       "\n",
       "  Newspaper Article X Education Forums Newspaper Digital Advertisement  \\\n",
       "0                No                 No        No                    No   \n",
       "1                No                 No        No                    No   \n",
       "2                No                 No        No                    No   \n",
       "3                No                 No        No                    No   \n",
       "4                No                 No        No                    No   \n",
       "\n",
       "  Through Recommendations Receive More Updates About Our Courses  \\\n",
       "0                      No                                     No   \n",
       "1                      No                                     No   \n",
       "2                      No                                     No   \n",
       "3                      No                                     No   \n",
       "4                      No                                     No   \n",
       "\n",
       "                                  Tags      Lead Quality  \\\n",
       "0          Interested in other courses  Low in Relevance   \n",
       "1                              Ringing               NaN   \n",
       "2  Will revert after reading the email          Might be   \n",
       "3                              Ringing          Not Sure   \n",
       "4  Will revert after reading the email          Might be   \n",
       "\n",
       "  Update me on Supply Chain Content Get updates on DM Content    Lead Profile  \\\n",
       "0                                No                        No          Select   \n",
       "1                                No                        No          Select   \n",
       "2                                No                        No  Potential Lead   \n",
       "3                                No                        No          Select   \n",
       "4                                No                        No          Select   \n",
       "\n",
       "     City Asymmetrique Activity Index Asymmetrique Profile Index  \\\n",
       "0  Select                   02.Medium                  02.Medium   \n",
       "1  Select                   02.Medium                  02.Medium   \n",
       "2  Mumbai                   02.Medium                    01.High   \n",
       "3  Mumbai                   02.Medium                    01.High   \n",
       "4  Mumbai                   02.Medium                    01.High   \n",
       "\n",
       "   Asymmetrique Activity Score  Asymmetrique Profile Score  \\\n",
       "0                         15.0                        15.0   \n",
       "1                         15.0                        15.0   \n",
       "2                         14.0                        20.0   \n",
       "3                         13.0                        17.0   \n",
       "4                         15.0                        18.0   \n",
       "\n",
       "  I agree to pay the amount through cheque  \\\n",
       "0                                       No   \n",
       "1                                       No   \n",
       "2                                       No   \n",
       "3                                       No   \n",
       "4                                       No   \n",
       "\n",
       "  A free copy of Mastering The Interview Last Notable Activity  \n",
       "0                                     No              Modified  \n",
       "1                                     No          Email Opened  \n",
       "2                                    Yes          Email Opened  \n",
       "3                                     No              Modified  \n",
       "4                                     No              Modified  "
      ]
     },
     "execution_count": 624,
     "metadata": {},
     "output_type": "execute_result"
    }
   ],
   "source": [
    "data=pd.read_csv(\"Leads.csv\")\n",
    "data.head()"
   ]
  },
  {
   "cell_type": "code",
   "execution_count": 625,
   "id": "1acbbb2e",
   "metadata": {},
   "outputs": [
    {
     "data": {
      "text/plain": [
       "(9240, 37)"
      ]
     },
     "execution_count": 625,
     "metadata": {},
     "output_type": "execute_result"
    }
   ],
   "source": [
    "data.shape"
   ]
  },
  {
   "cell_type": "code",
   "execution_count": 626,
   "id": "01d9da33",
   "metadata": {},
   "outputs": [
    {
     "name": "stdout",
     "output_type": "stream",
     "text": [
      "<class 'pandas.core.frame.DataFrame'>\n",
      "RangeIndex: 9240 entries, 0 to 9239\n",
      "Data columns (total 37 columns):\n",
      " #   Column                                         Non-Null Count  Dtype  \n",
      "---  ------                                         --------------  -----  \n",
      " 0   Prospect ID                                    9240 non-null   object \n",
      " 1   Lead Number                                    9240 non-null   int64  \n",
      " 2   Lead Origin                                    9240 non-null   object \n",
      " 3   Lead Source                                    9204 non-null   object \n",
      " 4   Do Not Email                                   9240 non-null   object \n",
      " 5   Do Not Call                                    9240 non-null   object \n",
      " 6   Converted                                      9240 non-null   int64  \n",
      " 7   TotalVisits                                    9103 non-null   float64\n",
      " 8   Total Time Spent on Website                    9240 non-null   int64  \n",
      " 9   Page Views Per Visit                           9103 non-null   float64\n",
      " 10  Last Activity                                  9137 non-null   object \n",
      " 11  Country                                        6779 non-null   object \n",
      " 12  Specialization                                 7802 non-null   object \n",
      " 13  How did you hear about X Education             7033 non-null   object \n",
      " 14  What is your current occupation                6550 non-null   object \n",
      " 15  What matters most to you in choosing a course  6531 non-null   object \n",
      " 16  Search                                         9240 non-null   object \n",
      " 17  Magazine                                       9240 non-null   object \n",
      " 18  Newspaper Article                              9240 non-null   object \n",
      " 19  X Education Forums                             9240 non-null   object \n",
      " 20  Newspaper                                      9240 non-null   object \n",
      " 21  Digital Advertisement                          9240 non-null   object \n",
      " 22  Through Recommendations                        9240 non-null   object \n",
      " 23  Receive More Updates About Our Courses         9240 non-null   object \n",
      " 24  Tags                                           5887 non-null   object \n",
      " 25  Lead Quality                                   4473 non-null   object \n",
      " 26  Update me on Supply Chain Content              9240 non-null   object \n",
      " 27  Get updates on DM Content                      9240 non-null   object \n",
      " 28  Lead Profile                                   6531 non-null   object \n",
      " 29  City                                           7820 non-null   object \n",
      " 30  Asymmetrique Activity Index                    5022 non-null   object \n",
      " 31  Asymmetrique Profile Index                     5022 non-null   object \n",
      " 32  Asymmetrique Activity Score                    5022 non-null   float64\n",
      " 33  Asymmetrique Profile Score                     5022 non-null   float64\n",
      " 34  I agree to pay the amount through cheque       9240 non-null   object \n",
      " 35  A free copy of Mastering The Interview         9240 non-null   object \n",
      " 36  Last Notable Activity                          9240 non-null   object \n",
      "dtypes: float64(4), int64(3), object(30)\n",
      "memory usage: 2.6+ MB\n"
     ]
    }
   ],
   "source": [
    "data.info()"
   ]
  },
  {
   "cell_type": "code",
   "execution_count": 627,
   "id": "ba64d864",
   "metadata": {},
   "outputs": [
    {
     "data": {
      "text/html": [
       "<div>\n",
       "<style scoped>\n",
       "    .dataframe tbody tr th:only-of-type {\n",
       "        vertical-align: middle;\n",
       "    }\n",
       "\n",
       "    .dataframe tbody tr th {\n",
       "        vertical-align: top;\n",
       "    }\n",
       "\n",
       "    .dataframe thead th {\n",
       "        text-align: right;\n",
       "    }\n",
       "</style>\n",
       "<table border=\"1\" class=\"dataframe\">\n",
       "  <thead>\n",
       "    <tr style=\"text-align: right;\">\n",
       "      <th></th>\n",
       "      <th>Lead Number</th>\n",
       "      <th>Converted</th>\n",
       "      <th>TotalVisits</th>\n",
       "      <th>Total Time Spent on Website</th>\n",
       "      <th>Page Views Per Visit</th>\n",
       "      <th>Asymmetrique Activity Score</th>\n",
       "      <th>Asymmetrique Profile Score</th>\n",
       "    </tr>\n",
       "  </thead>\n",
       "  <tbody>\n",
       "    <tr>\n",
       "      <th>count</th>\n",
       "      <td>9240.000000</td>\n",
       "      <td>9240.000000</td>\n",
       "      <td>9103.000000</td>\n",
       "      <td>9240.000000</td>\n",
       "      <td>9103.000000</td>\n",
       "      <td>5022.000000</td>\n",
       "      <td>5022.000000</td>\n",
       "    </tr>\n",
       "    <tr>\n",
       "      <th>mean</th>\n",
       "      <td>617188.435606</td>\n",
       "      <td>0.385390</td>\n",
       "      <td>3.445238</td>\n",
       "      <td>487.698268</td>\n",
       "      <td>2.362820</td>\n",
       "      <td>14.306252</td>\n",
       "      <td>16.344883</td>\n",
       "    </tr>\n",
       "    <tr>\n",
       "      <th>std</th>\n",
       "      <td>23405.995698</td>\n",
       "      <td>0.486714</td>\n",
       "      <td>4.854853</td>\n",
       "      <td>548.021466</td>\n",
       "      <td>2.161418</td>\n",
       "      <td>1.386694</td>\n",
       "      <td>1.811395</td>\n",
       "    </tr>\n",
       "    <tr>\n",
       "      <th>min</th>\n",
       "      <td>579533.000000</td>\n",
       "      <td>0.000000</td>\n",
       "      <td>0.000000</td>\n",
       "      <td>0.000000</td>\n",
       "      <td>0.000000</td>\n",
       "      <td>7.000000</td>\n",
       "      <td>11.000000</td>\n",
       "    </tr>\n",
       "    <tr>\n",
       "      <th>25%</th>\n",
       "      <td>596484.500000</td>\n",
       "      <td>0.000000</td>\n",
       "      <td>1.000000</td>\n",
       "      <td>12.000000</td>\n",
       "      <td>1.000000</td>\n",
       "      <td>14.000000</td>\n",
       "      <td>15.000000</td>\n",
       "    </tr>\n",
       "    <tr>\n",
       "      <th>50%</th>\n",
       "      <td>615479.000000</td>\n",
       "      <td>0.000000</td>\n",
       "      <td>3.000000</td>\n",
       "      <td>248.000000</td>\n",
       "      <td>2.000000</td>\n",
       "      <td>14.000000</td>\n",
       "      <td>16.000000</td>\n",
       "    </tr>\n",
       "    <tr>\n",
       "      <th>75%</th>\n",
       "      <td>637387.250000</td>\n",
       "      <td>1.000000</td>\n",
       "      <td>5.000000</td>\n",
       "      <td>936.000000</td>\n",
       "      <td>3.000000</td>\n",
       "      <td>15.000000</td>\n",
       "      <td>18.000000</td>\n",
       "    </tr>\n",
       "    <tr>\n",
       "      <th>max</th>\n",
       "      <td>660737.000000</td>\n",
       "      <td>1.000000</td>\n",
       "      <td>251.000000</td>\n",
       "      <td>2272.000000</td>\n",
       "      <td>55.000000</td>\n",
       "      <td>18.000000</td>\n",
       "      <td>20.000000</td>\n",
       "    </tr>\n",
       "  </tbody>\n",
       "</table>\n",
       "</div>"
      ],
      "text/plain": [
       "         Lead Number    Converted  TotalVisits  Total Time Spent on Website  \\\n",
       "count    9240.000000  9240.000000  9103.000000                  9240.000000   \n",
       "mean   617188.435606     0.385390     3.445238                   487.698268   \n",
       "std     23405.995698     0.486714     4.854853                   548.021466   \n",
       "min    579533.000000     0.000000     0.000000                     0.000000   \n",
       "25%    596484.500000     0.000000     1.000000                    12.000000   \n",
       "50%    615479.000000     0.000000     3.000000                   248.000000   \n",
       "75%    637387.250000     1.000000     5.000000                   936.000000   \n",
       "max    660737.000000     1.000000   251.000000                  2272.000000   \n",
       "\n",
       "       Page Views Per Visit  Asymmetrique Activity Score  \\\n",
       "count           9103.000000                  5022.000000   \n",
       "mean               2.362820                    14.306252   \n",
       "std                2.161418                     1.386694   \n",
       "min                0.000000                     7.000000   \n",
       "25%                1.000000                    14.000000   \n",
       "50%                2.000000                    14.000000   \n",
       "75%                3.000000                    15.000000   \n",
       "max               55.000000                    18.000000   \n",
       "\n",
       "       Asymmetrique Profile Score  \n",
       "count                 5022.000000  \n",
       "mean                    16.344883  \n",
       "std                      1.811395  \n",
       "min                     11.000000  \n",
       "25%                     15.000000  \n",
       "50%                     16.000000  \n",
       "75%                     18.000000  \n",
       "max                     20.000000  "
      ]
     },
     "execution_count": 627,
     "metadata": {},
     "output_type": "execute_result"
    }
   ],
   "source": [
    "data.describe()"
   ]
  },
  {
   "cell_type": "markdown",
   "id": "14cdfa49",
   "metadata": {},
   "source": [
    "## some data validations\n",
    "1. Prospect ID ,Lead number should unique\n",
    "2. check for null and missing value, drop column or fill with ,mean or mode\n",
    "3. some field seems to be optional like occupation which has select as entry that can be removed\n",
    "4. some fields have missing values like Last Activity\n"
   ]
  },
  {
   "cell_type": "code",
   "execution_count": 628,
   "id": "b63e8fcf",
   "metadata": {},
   "outputs": [],
   "source": [
    "selectValueCols = ['Specialization', 'Lead Source', 'Lead Profile', 'City','How did you hear about X Education']\n",
    "data[selectValueCols] = data[selectValueCols].replace('Select', np.NaN)"
   ]
  },
  {
   "cell_type": "code",
   "execution_count": 629,
   "id": "dc46937a",
   "metadata": {},
   "outputs": [
    {
     "name": "stdout",
     "output_type": "stream",
     "text": [
      "analysis for  Prospect ID\n",
      "Null values  0\n",
      "Percentage of null values 0.0\n",
      "#######################################\n",
      "analysis for  Lead Number\n",
      "Null values  0\n",
      "Percentage of null values 0.0\n",
      "#######################################\n",
      "analysis for  Lead Origin\n",
      "Null values  0\n",
      "Percentage of null values 0.0\n",
      "#######################################\n",
      "analysis for  Lead Source\n",
      "Null values  36\n",
      "Percentage of null values 0.38961038961038963\n",
      "#######################################\n",
      "analysis for  Do Not Email\n",
      "Null values  0\n",
      "Percentage of null values 0.0\n",
      "#######################################\n",
      "analysis for  Do Not Call\n",
      "Null values  0\n",
      "Percentage of null values 0.0\n",
      "#######################################\n",
      "analysis for  Converted\n",
      "Null values  0\n",
      "Percentage of null values 0.0\n",
      "#######################################\n",
      "analysis for  TotalVisits\n",
      "Null values  137\n",
      "Percentage of null values 1.4826839826839828\n",
      "#######################################\n",
      "analysis for  Total Time Spent on Website\n",
      "Null values  0\n",
      "Percentage of null values 0.0\n",
      "#######################################\n",
      "analysis for  Page Views Per Visit\n",
      "Null values  137\n",
      "Percentage of null values 1.4826839826839828\n",
      "#######################################\n",
      "analysis for  Last Activity\n",
      "Null values  103\n",
      "Percentage of null values 1.1147186147186148\n",
      "#######################################\n",
      "analysis for  Country\n",
      "Null values  2461\n",
      "Percentage of null values 26.634199134199132\n",
      "#######################################\n",
      "analysis for  Specialization\n",
      "Null values  3380\n",
      "Percentage of null values 36.58008658008658\n",
      "#######################################\n",
      "analysis for  How did you hear about X Education\n",
      "Null values  7250\n",
      "Percentage of null values 78.46320346320347\n",
      "#######################################\n",
      "analysis for  What is your current occupation\n",
      "Null values  2690\n",
      "Percentage of null values 29.11255411255411\n",
      "#######################################\n",
      "analysis for  What matters most to you in choosing a course\n",
      "Null values  2709\n",
      "Percentage of null values 29.318181818181817\n",
      "#######################################\n",
      "analysis for  Search\n",
      "Null values  0\n",
      "Percentage of null values 0.0\n",
      "#######################################\n",
      "analysis for  Magazine\n",
      "Null values  0\n",
      "Percentage of null values 0.0\n",
      "#######################################\n",
      "analysis for  Newspaper Article\n",
      "Null values  0\n",
      "Percentage of null values 0.0\n",
      "#######################################\n",
      "analysis for  X Education Forums\n",
      "Null values  0\n",
      "Percentage of null values 0.0\n",
      "#######################################\n",
      "analysis for  Newspaper\n",
      "Null values  0\n",
      "Percentage of null values 0.0\n",
      "#######################################\n",
      "analysis for  Digital Advertisement\n",
      "Null values  0\n",
      "Percentage of null values 0.0\n",
      "#######################################\n",
      "analysis for  Through Recommendations\n",
      "Null values  0\n",
      "Percentage of null values 0.0\n",
      "#######################################\n",
      "analysis for  Receive More Updates About Our Courses\n",
      "Null values  0\n",
      "Percentage of null values 0.0\n",
      "#######################################\n",
      "analysis for  Tags\n",
      "Null values  3353\n",
      "Percentage of null values 36.28787878787879\n",
      "#######################################\n",
      "analysis for  Lead Quality\n",
      "Null values  4767\n",
      "Percentage of null values 51.590909090909086\n",
      "#######################################\n",
      "analysis for  Update me on Supply Chain Content\n",
      "Null values  0\n",
      "Percentage of null values 0.0\n",
      "#######################################\n",
      "analysis for  Get updates on DM Content\n",
      "Null values  0\n",
      "Percentage of null values 0.0\n",
      "#######################################\n",
      "analysis for  Lead Profile\n",
      "Null values  6855\n",
      "Percentage of null values 74.18831168831169\n",
      "#######################################\n",
      "analysis for  City\n",
      "Null values  3669\n",
      "Percentage of null values 39.70779220779221\n",
      "#######################################\n",
      "analysis for  Asymmetrique Activity Index\n",
      "Null values  4218\n",
      "Percentage of null values 45.64935064935065\n",
      "#######################################\n",
      "analysis for  Asymmetrique Profile Index\n",
      "Null values  4218\n",
      "Percentage of null values 45.64935064935065\n",
      "#######################################\n",
      "analysis for  Asymmetrique Activity Score\n",
      "Null values  4218\n",
      "Percentage of null values 45.64935064935065\n",
      "#######################################\n",
      "analysis for  Asymmetrique Profile Score\n",
      "Null values  4218\n",
      "Percentage of null values 45.64935064935065\n",
      "#######################################\n",
      "analysis for  I agree to pay the amount through cheque\n",
      "Null values  0\n",
      "Percentage of null values 0.0\n",
      "#######################################\n",
      "analysis for  A free copy of Mastering The Interview\n",
      "Null values  0\n",
      "Percentage of null values 0.0\n",
      "#######################################\n",
      "analysis for  Last Notable Activity\n",
      "Null values  0\n",
      "Percentage of null values 0.0\n",
      "#######################################\n",
      "['How did you hear about X Education', 'Lead Quality', 'Lead Profile', 'Asymmetrique Activity Index', 'Asymmetrique Profile Index', 'Asymmetrique Activity Score', 'Asymmetrique Profile Score']\n",
      "7\n"
     ]
    }
   ],
   "source": [
    "nullValues = []\n",
    "for col in data.columns.values:\n",
    "    print(\"analysis for \",col)\n",
    "    print(\"Null values \",data[col].isnull().sum())\n",
    "    percentageNullValues = (data[col].isnull().sum()/len(data[col]))*100 \n",
    "    print(\"Percentage of null values\",percentageNullValues)\n",
    "    if data[col].isnull().sum() > 0 and percentageNullValues > 40:\n",
    "        nullValues.append(col)\n",
    "    print(\"#######################################\")\n",
    "print(nullValues)\n",
    "print(len(nullValues))"
   ]
  },
  {
   "cell_type": "code",
   "execution_count": 630,
   "id": "e922df6d",
   "metadata": {},
   "outputs": [],
   "source": [
    "data.drop(nullValues, \n",
    "        axis = 1, inplace = True)\n"
   ]
  },
  {
   "cell_type": "code",
   "execution_count": 631,
   "id": "934bb2c3",
   "metadata": {},
   "outputs": [
    {
     "data": {
      "text/plain": [
       "30"
      ]
     },
     "execution_count": 631,
     "metadata": {},
     "output_type": "execute_result"
    }
   ],
   "source": [
    "len(data.columns)"
   ]
  },
  {
   "cell_type": "code",
   "execution_count": 632,
   "id": "c61e2000",
   "metadata": {},
   "outputs": [],
   "source": [
    "## removing fields like Tags, Last Notable Activity,Last Activity, these value are either too much empty  \n",
    "## also these value are set after user has been assigned to agent \n",
    "data.drop(['Last Notable Activity','Tags','Last Activity'], \n",
    "        axis = 1, inplace = True)"
   ]
  },
  {
   "cell_type": "code",
   "execution_count": 633,
   "id": "a40fbde5",
   "metadata": {},
   "outputs": [
    {
     "data": {
      "text/plain": [
       "27"
      ]
     },
     "execution_count": 633,
     "metadata": {},
     "output_type": "execute_result"
    }
   ],
   "source": [
    "len(data.columns)"
   ]
  },
  {
   "cell_type": "markdown",
   "id": "f759529f",
   "metadata": {},
   "source": [
    "# Categorical variables:"
   ]
  },
  {
   "cell_type": "code",
   "execution_count": 634,
   "id": "7d75b000",
   "metadata": {},
   "outputs": [
    {
     "data": {
      "text/plain": [
       "India                   70.259740\n",
       "United States            0.746753\n",
       "United Arab Emirates     0.573593\n",
       "Singapore                0.259740\n",
       "Saudi Arabia             0.227273\n",
       "United Kingdom           0.162338\n",
       "Australia                0.140693\n",
       "Qatar                    0.108225\n",
       "Hong Kong                0.075758\n",
       "Bahrain                  0.075758\n",
       "Oman                     0.064935\n",
       "France                   0.064935\n",
       "unknown                  0.054113\n",
       "South Africa             0.043290\n",
       "Nigeria                  0.043290\n",
       "Germany                  0.043290\n",
       "Kuwait                   0.043290\n",
       "Canada                   0.043290\n",
       "Sweden                   0.032468\n",
       "China                    0.021645\n",
       "Asia/Pacific Region      0.021645\n",
       "Uganda                   0.021645\n",
       "Bangladesh               0.021645\n",
       "Italy                    0.021645\n",
       "Belgium                  0.021645\n",
       "Netherlands              0.021645\n",
       "Ghana                    0.021645\n",
       "Philippines              0.021645\n",
       "Russia                   0.010823\n",
       "Switzerland              0.010823\n",
       "Vietnam                  0.010823\n",
       "Denmark                  0.010823\n",
       "Tanzania                 0.010823\n",
       "Liberia                  0.010823\n",
       "Malaysia                 0.010823\n",
       "Kenya                    0.010823\n",
       "Sri Lanka                0.010823\n",
       "Indonesia                0.010823\n",
       "Name: Country, dtype: float64"
      ]
     },
     "execution_count": 634,
     "metadata": {},
     "output_type": "execute_result"
    }
   ],
   "source": [
    "temp_data = (data['Country'].value_counts()/len(data['Country']))*100\n",
    "temp_data"
   ]
  },
  {
   "cell_type": "code",
   "execution_count": 635,
   "id": "f117b50e",
   "metadata": {},
   "outputs": [
    {
     "name": "stdout",
     "output_type": "stream",
     "text": [
      "26.634199134199132\n"
     ]
    }
   ],
   "source": [
    "temp_data = (data['Country'].value_counts()/len(data['Country']))*100\n",
    "print((data['Country'].isnull().sum()/len(data['Country'])) *100)\n",
    "temp_data\n",
    "## 26% null value 70% india value data is not biased\n",
    "data.drop(['Country'], \n",
    "        axis = 1, inplace = True)"
   ]
  },
  {
   "cell_type": "code",
   "execution_count": null,
   "id": "f9ae305d",
   "metadata": {},
   "outputs": [],
   "source": []
  },
  {
   "cell_type": "code",
   "execution_count": 636,
   "id": "0ea4a044",
   "metadata": {},
   "outputs": [
    {
     "name": "stdout",
     "output_type": "stream",
     "text": [
      "Mumbai                         34.870130\n",
      "Thane & Outskirts               8.138528\n",
      "Other Cities                    7.424242\n",
      "Other Cities of Maharashtra     4.945887\n",
      "Other Metro Cities              4.112554\n",
      "Tier II Cities                  0.800866\n",
      "Name: City, dtype: float64\n"
     ]
    }
   ],
   "source": [
    "temp_data = (data['City'].value_counts()/len(data['City']))*100\n",
    "print(temp_data)\n",
    "(data['City'].isnull().sum()/len(data['City'])) *100\n",
    "## 40% data is null or empty, 35% in mumbai , this city data is not helpul can be removed\n",
    "data.drop(['City'], \n",
    "        axis = 1, inplace = True)"
   ]
  },
  {
   "cell_type": "code",
   "execution_count": 637,
   "id": "812afccc",
   "metadata": {},
   "outputs": [
    {
     "data": {
      "text/plain": [
       "(9240, 25)"
      ]
     },
     "execution_count": 637,
     "metadata": {},
     "output_type": "execute_result"
    }
   ],
   "source": [
    "data.shape"
   ]
  },
  {
   "cell_type": "code",
   "execution_count": 638,
   "id": "27891082",
   "metadata": {},
   "outputs": [
    {
     "data": {
      "image/png": "[encoded data removed]",
      "text/plain": [
       "<Figure size 5500x2500 with 1 Axes>"
      ]
     },
     "metadata": {},
     "output_type": "display_data"
    },
    {
     "data": {
      "text/plain": [
       "NaN                                  36.580087\n",
       "Finance Management                   10.562771\n",
       "Human Resource Management             9.177489\n",
       "Marketing Management                  9.069264\n",
       "Operations Management                 5.443723\n",
       "Business Administration               4.361472\n",
       "IT Projects Management                3.961039\n",
       "Supply Chain Management               3.777056\n",
       "Banking, Investment And Insurance     3.658009\n",
       "Travel and Tourism                    2.196970\n",
       "Media and Advertising                 2.196970\n",
       "International Business                1.926407\n",
       "Healthcare Management                 1.720779\n",
       "Hospitality Management                1.233766\n",
       "E-COMMERCE                            1.212121\n",
       "Retail Management                     1.082251\n",
       "Rural and Agribusiness                0.790043\n",
       "E-Business                            0.616883\n",
       "Services Excellence                   0.432900\n",
       "Name: Specialization, dtype: float64"
      ]
     },
     "execution_count": 638,
     "metadata": {},
     "output_type": "execute_result"
    }
   ],
   "source": [
    "plt.figure(figsize=(55,25))\n",
    "#Converted vs Specialization\n",
    "sns.countplot(data, x='Specialization', hue='Converted')\n",
    "#plt.title(\"Leads Conversion based on Specialisation\",fontsize=20)\n",
    "plt.title(\"Leads Conversion based on Specialisation\",fontsize=50)\n",
    "plt.show()\n",
    "(data['Specialization'].value_counts(dropna=False)/len(data['Specialization'])) * 100"
   ]
  },
  {
   "cell_type": "code",
   "execution_count": 639,
   "id": "f7598579",
   "metadata": {},
   "outputs": [
    {
     "data": {
      "image/png": "[encoded data removed]",
      "text/plain": [
       "<Figure size 640x480 with 1 Axes>"
      ]
     },
     "metadata": {},
     "output_type": "display_data"
    }
   ],
   "source": [
    "data['What matters most to you in choosing a course'].value_counts(normalize = True, dropna = False) * 100\n",
    "#Converted vs Specialization\n",
    "sns.countplot(data, x='What matters most to you in choosing a course', hue='Converted')\n",
    "plt.show()"
   ]
  },
  {
   "cell_type": "code",
   "execution_count": 640,
   "id": "b5d24c7e",
   "metadata": {},
   "outputs": [
    {
     "data": {
      "image/png": "[encoded data removed]",
      "text/plain": [
       "<Figure size 640x480 with 1 Axes>"
      ]
     },
     "metadata": {},
     "output_type": "display_data"
    }
   ],
   "source": [
    "data['What is your current occupation'].value_counts(normalize = True, dropna = False) * 100\n",
    "#Converted vs Specialization\n",
    "sns.countplot(data, x='What is your current occupation', hue='Converted')\n",
    "#plt.title(\"Leads Conversion based on Specialisation\",fontsize=20)\n",
    "plt.show()"
   ]
  },
  {
   "cell_type": "code",
   "execution_count": 641,
   "id": "6c771fd8",
   "metadata": {},
   "outputs": [
    {
     "data": {
      "text/plain": [
       "Google               2868\n",
       "Direct Traffic       2543\n",
       "Olark Chat           1755\n",
       "Organic Search       1154\n",
       "Reference             534\n",
       "Welingak Website      142\n",
       "Referral Sites        125\n",
       "Facebook               55\n",
       "NaN                    36\n",
       "bing                    6\n",
       "google                  5\n",
       "Click2call              4\n",
       "Press_Release           2\n",
       "Social Media            2\n",
       "Live Chat               2\n",
       "youtubechannel          1\n",
       "testone                 1\n",
       "Pay per Click Ads       1\n",
       "welearnblog_Home        1\n",
       "WeLearn                 1\n",
       "blog                    1\n",
       "NC_EDM                  1\n",
       "Name: Lead Source, dtype: int64"
      ]
     },
     "execution_count": 641,
     "metadata": {},
     "output_type": "execute_result"
    }
   ],
   "source": [
    "data['Lead Source'].value_counts(dropna=False)\n"
   ]
  },
  {
   "cell_type": "markdown",
   "id": "192aa64e",
   "metadata": {},
   "source": [
    "## Binary columns check\n"
   ]
  },
  {
   "cell_type": "code",
   "execution_count": 642,
   "id": "3eb830f1",
   "metadata": {},
   "outputs": [
    {
     "name": "stdout",
     "output_type": "stream",
     "text": [
      "Prospect ID 9240\n",
      "Lead Origin 5\n",
      "Lead Source 21\n",
      "Do Not Email 2\n",
      "Do Not Call 2\n",
      "Specialization 18\n",
      "What is your current occupation 6\n",
      "What matters most to you in choosing a course 3\n",
      "Search 2\n",
      "Magazine 1\n",
      "Newspaper Article 2\n",
      "X Education Forums 2\n",
      "Newspaper 2\n",
      "Digital Advertisement 2\n",
      "Through Recommendations 2\n",
      "Receive More Updates About Our Courses 1\n",
      "Update me on Supply Chain Content 1\n",
      "Get updates on DM Content 1\n",
      "I agree to pay the amount through cheque 1\n",
      "A free copy of Mastering The Interview 2\n",
      "['Magazine', 'Receive More Updates About Our Courses', 'Update me on Supply Chain Content', 'Get updates on DM Content', 'I agree to pay the amount through cheque']\n"
     ]
    }
   ],
   "source": [
    "# determine unique values\n",
    "sameValueCols = []\n",
    "booleanValueCols = []\n",
    "for key, value in data.select_dtypes(include='object').nunique().to_dict().items():\n",
    "    print(key,value)\n",
    "    if(value==1):\n",
    "        sameValueCols.append(key)\n",
    "    if(value==2):\n",
    "        booleanValueCols.append(key)\n",
    "print(sameValueCols)"
   ]
  },
  {
   "cell_type": "code",
   "execution_count": 643,
   "id": "c77ab871",
   "metadata": {},
   "outputs": [
    {
     "name": "stdout",
     "output_type": "stream",
     "text": [
      "Magazine 0.0\n",
      "Receive More Updates About Our Courses 0.0\n",
      "Update me on Supply Chain Content 0.0\n",
      "Get updates on DM Content 0.0\n",
      "I agree to pay the amount through cheque 0.0\n"
     ]
    }
   ],
   "source": [
    "#check null values in samevalcolumns\n",
    "for col in sameValueCols:\n",
    "    print(col,data[col].isnull().sum()/len(data[col])*100)\n",
    "#since no null value and all col have same value these can be dropped"
   ]
  },
  {
   "cell_type": "code",
   "execution_count": 644,
   "id": "a31e24b1",
   "metadata": {},
   "outputs": [],
   "source": [
    "data.drop(sameValueCols, \n",
    "        axis = 1, inplace = True)"
   ]
  },
  {
   "cell_type": "code",
   "execution_count": 645,
   "id": "27bc758c",
   "metadata": {},
   "outputs": [
    {
     "data": {
      "text/plain": [
       "(9240, 20)"
      ]
     },
     "execution_count": 645,
     "metadata": {},
     "output_type": "execute_result"
    }
   ],
   "source": [
    "data.shape"
   ]
  },
  {
   "cell_type": "code",
   "execution_count": 646,
   "id": "8d3195e4",
   "metadata": {},
   "outputs": [
    {
     "name": "stdout",
     "output_type": "stream",
     "text": [
      "Do Not Email\n",
      "Do Not Call\n",
      "Search\n",
      "Newspaper Article\n",
      "X Education Forums\n",
      "Newspaper\n",
      "Digital Advertisement\n",
      "Through Recommendations\n",
      "A free copy of Mastering The Interview\n"
     ]
    },
    {
     "data": {
      "text/plain": [
       "['Do Not Call',\n",
       " 'Search',\n",
       " 'Newspaper Article',\n",
       " 'X Education Forums',\n",
       " 'Newspaper',\n",
       " 'Digital Advertisement',\n",
       " 'Through Recommendations']"
      ]
     },
     "execution_count": 646,
     "metadata": {},
     "output_type": "execute_result"
    }
   ],
   "source": [
    "# check for data imbalance\n",
    "booleanValueCols\n",
    "boolToremove = []\n",
    "for col in booleanValueCols:\n",
    "    #print(col,data[col].isnull().sum()/len(data[col])*100)\n",
    "#     (data[col].value_counts(normalize = True))\n",
    "    print(col)\n",
    "    values = (data[col].value_counts(normalize = True) *100).values\n",
    "    if(abs(values[0]-values[1]) > 90):\n",
    "        boolToremove.append(col)\n",
    "#     if((data[col].value_counts(normalize = True)) * 100 > 85):\n",
    "#         boolToremove.append(col)\n",
    "boolToremove"
   ]
  },
  {
   "cell_type": "code",
   "execution_count": 647,
   "id": "7f1def37",
   "metadata": {},
   "outputs": [],
   "source": [
    "data.drop(boolToremove, \n",
    "        axis = 1, inplace = True)"
   ]
  },
  {
   "cell_type": "code",
   "execution_count": 648,
   "id": "39096fc4",
   "metadata": {},
   "outputs": [
    {
     "data": {
      "text/plain": [
       "(9240, 13)"
      ]
     },
     "execution_count": 648,
     "metadata": {},
     "output_type": "execute_result"
    }
   ],
   "source": [
    "data.shape"
   ]
  },
  {
   "cell_type": "markdown",
   "id": "c9b268dc",
   "metadata": {},
   "source": [
    "# numerical analysis"
   ]
  },
  {
   "cell_type": "code",
   "execution_count": 649,
   "id": "b0ce1d51",
   "metadata": {},
   "outputs": [
    {
     "data": {
      "text/plain": [
       "Index(['Prospect ID', 'Lead Number', 'Lead Origin', 'Lead Source',\n",
       "       'Do Not Email', 'Converted', 'TotalVisits',\n",
       "       'Total Time Spent on Website', 'Page Views Per Visit', 'Specialization',\n",
       "       'What is your current occupation',\n",
       "       'What matters most to you in choosing a course',\n",
       "       'A free copy of Mastering The Interview'],\n",
       "      dtype='object')"
      ]
     },
     "execution_count": 649,
     "metadata": {},
     "output_type": "execute_result"
    }
   ],
   "source": [
    "data.columns"
   ]
  },
  {
   "cell_type": "code",
   "execution_count": 650,
   "id": "0da45793",
   "metadata": {},
   "outputs": [
    {
     "data": {
      "text/plain": [
       "<Axes: xlabel='TotalVisits', ylabel='Count'>"
      ]
     },
     "execution_count": 650,
     "metadata": {},
     "output_type": "execute_result"
    },
    {
     "data": {
      "image/png": "[encoded data removed]",
      "text/plain": [
       "<Figure size 640x480 with 1 Axes>"
      ]
     },
     "metadata": {},
     "output_type": "display_data"
    }
   ],
   "source": [
    "plt.xlim(0, 30)\n",
    "sns.histplot(data=data, x=\"TotalVisits\", hue=\"Converted\")       "
   ]
  },
  {
   "cell_type": "code",
   "execution_count": 651,
   "id": "7fe32c92",
   "metadata": {},
   "outputs": [
    {
     "data": {
      "text/plain": [
       "<Axes: xlabel='Total Time Spent on Website', ylabel='Count'>"
      ]
     },
     "execution_count": 651,
     "metadata": {},
     "output_type": "execute_result"
    },
    {
     "data": {
      "image/png": "[encoded data removed]",
      "text/plain": [
       "<Figure size 640x480 with 1 Axes>"
      ]
     },
     "metadata": {},
     "output_type": "display_data"
    }
   ],
   "source": [
    "sns.histplot(data=data, x=\"Total Time Spent on Website\", hue=\"Converted\")"
   ]
  },
  {
   "cell_type": "code",
   "execution_count": 652,
   "id": "f2fb2b50",
   "metadata": {},
   "outputs": [
    {
     "data": {
      "text/plain": [
       "<Axes: xlabel='Page Views Per Visit', ylabel='Count'>"
      ]
     },
     "execution_count": 652,
     "metadata": {},
     "output_type": "execute_result"
    },
    {
     "data": {
      "image/png": "[encoded data removed]",
      "text/plain": [
       "<Figure size 640x480 with 1 Axes>"
      ]
     },
     "metadata": {},
     "output_type": "display_data"
    }
   ],
   "source": [
    "plt.xlim(0, 12.5)\n",
    "sns.histplot(data=data, x=\"Page Views Per Visit\", hue=\"Converted\")"
   ]
  },
  {
   "cell_type": "code",
   "execution_count": 653,
   "id": "10aa2450",
   "metadata": {},
   "outputs": [
    {
     "data": {
      "image/png": "[encoded data removed]",
      "text/plain": [
       "<Figure size 1000x1000 with 2 Axes>"
      ]
     },
     "metadata": {},
     "output_type": "display_data"
    }
   ],
   "source": [
    "plt.figure(figsize = (10,10))\n",
    "\n",
    "plt.subplot(2,2,1)\n",
    "sns.countplot(x='Lead Origin', hue='Converted', data= data).tick_params(axis='x', rotation = 90)\n",
    "plt.title('Lead Origin')\n",
    "\n",
    "plt.subplot(2,2,2)\n",
    "sns.countplot(x='Lead Source', hue='Converted', data= data).tick_params(axis='x', rotation = 90)\n",
    "plt.title('Lead Source')\n",
    "plt.show()"
   ]
  },
  {
   "cell_type": "markdown",
   "id": "23349eb9",
   "metadata": {},
   "source": [
    "## Outliner check and removal\n"
   ]
  },
  {
   "cell_type": "code",
   "execution_count": 654,
   "id": "2196d750",
   "metadata": {},
   "outputs": [
    {
     "data": {
      "image/png": "[encoded data removed]",
      "text/plain": [
       "<Figure size 1000x400 with 1 Axes>"
      ]
     },
     "metadata": {},
     "output_type": "display_data"
    },
    {
     "name": "stdout",
     "output_type": "stream",
     "text": [
      "Median 248.0\n"
     ]
    }
   ],
   "source": [
    "plt.figure(figsize=(10,4))\n",
    "\n",
    "sns.boxplot(x=data['Total Time Spent on Website'])\n",
    "\n",
    "\n",
    "plt.show()\n",
    "\n",
    "print ('Median', data['Total Time Spent on Website'].median())"
   ]
  },
  {
   "cell_type": "code",
   "execution_count": 655,
   "id": "356b5c96",
   "metadata": {},
   "outputs": [
    {
     "data": {
      "image/png": "[encoded data removed]",
      "text/plain": [
       "<Figure size 1000x400 with 1 Axes>"
      ]
     },
     "metadata": {},
     "output_type": "display_data"
    },
    {
     "name": "stdout",
     "output_type": "stream",
     "text": [
      "Median 3.0\n"
     ]
    }
   ],
   "source": [
    "plt.figure(figsize=(10,4))\n",
    "\n",
    "sns.boxplot(x=data['TotalVisits'])\n",
    "\n",
    "\n",
    "plt.show()\n",
    "\n",
    "print ('Median', data['TotalVisits'].median())"
   ]
  },
  {
   "cell_type": "code",
   "execution_count": 656,
   "id": "e8a95ce8",
   "metadata": {},
   "outputs": [
    {
     "data": {
      "text/plain": [
       "<Axes: xlabel='TotalVisits'>"
      ]
     },
     "execution_count": 656,
     "metadata": {},
     "output_type": "execute_result"
    },
    {
     "data": {
      "image/png": "[encoded data removed]",
      "text/plain": [
       "<Figure size 640x480 with 1 Axes>"
      ]
     },
     "metadata": {},
     "output_type": "display_data"
    }
   ],
   "source": [
    "Q3 = data['TotalVisits'].quantile(0.99)\n",
    "data = data[(data['TotalVisits'] <= Q3)]\n",
    "Q1 = data['TotalVisits'].quantile(0.01)\n",
    "data = data[(data['TotalVisits'] >= Q1)]\n",
    "sns.boxplot(x=data['TotalVisits'])"
   ]
  },
  {
   "cell_type": "code",
   "execution_count": 657,
   "id": "b6f3d234",
   "metadata": {},
   "outputs": [
    {
     "data": {
      "image/png": "[encoded data removed]",
      "text/plain": [
       "<Figure size 1000x400 with 1 Axes>"
      ]
     },
     "metadata": {},
     "output_type": "display_data"
    },
    {
     "name": "stdout",
     "output_type": "stream",
     "text": [
      "Median 2.0\n"
     ]
    }
   ],
   "source": [
    "plt.figure(figsize=(10,4))\n",
    "\n",
    "sns.boxplot(x=data['Page Views Per Visit'])\n",
    "\n",
    "\n",
    "plt.show()\n",
    "\n",
    "print ('Median', data['Page Views Per Visit'].median())"
   ]
  },
  {
   "cell_type": "code",
   "execution_count": 658,
   "id": "084df779",
   "metadata": {},
   "outputs": [
    {
     "data": {
      "text/plain": [
       "<Axes: xlabel='Page Views Per Visit'>"
      ]
     },
     "execution_count": 658,
     "metadata": {},
     "output_type": "execute_result"
    },
    {
     "data": {
      "image/png": "[encoded data removed]",
      "text/plain": [
       "<Figure size 640x480 with 1 Axes>"
      ]
     },
     "metadata": {},
     "output_type": "display_data"
    }
   ],
   "source": [
    "Q3 = data['Page Views Per Visit'].quantile(0.99)\n",
    "\n",
    "data = data[(data['Page Views Per Visit'] <= Q3)]\n",
    "\n",
    "Q1 = data['Page Views Per Visit'].quantile(0.01)\n",
    "\n",
    "data = data[(data['Page Views Per Visit'] >= Q1)]\n",
    "\n",
    "sns.boxplot(x=data['Page Views Per Visit'])"
   ]
  },
  {
   "cell_type": "code",
   "execution_count": 659,
   "id": "88cd2963",
   "metadata": {},
   "outputs": [
    {
     "data": {
      "text/plain": [
       "Index(['Prospect ID', 'Lead Number', 'Lead Origin', 'Lead Source',\n",
       "       'Do Not Email', 'Converted', 'TotalVisits',\n",
       "       'Total Time Spent on Website', 'Page Views Per Visit', 'Specialization',\n",
       "       'What is your current occupation',\n",
       "       'What matters most to you in choosing a course',\n",
       "       'A free copy of Mastering The Interview'],\n",
       "      dtype='object')"
      ]
     },
     "execution_count": 659,
     "metadata": {},
     "output_type": "execute_result"
    }
   ],
   "source": [
    "data.shape\n",
    "data.columns"
   ]
  },
  {
   "cell_type": "code",
   "execution_count": 660,
   "id": "c0a92a3b",
   "metadata": {},
   "outputs": [
    {
     "data": {
      "text/plain": [
       "Lead Origin            \n",
       "Landing Page Submission    4769\n",
       "API                        3546\n",
       "Lead Add Form               607\n",
       "Lead Import                  31\n",
       "dtype: int64"
      ]
     },
     "execution_count": 660,
     "metadata": {},
     "output_type": "execute_result"
    }
   ],
   "source": [
    "data[['Lead Origin']].value_counts(dropna=False)\n"
   ]
  },
  {
   "cell_type": "code",
   "execution_count": 661,
   "id": "89e59597",
   "metadata": {},
   "outputs": [
    {
     "data": {
      "text/plain": [
       "Lead Source      \n",
       "Google               2836\n",
       "Direct Traffic       2499\n",
       "Olark Chat           1751\n",
       "Organic Search       1092\n",
       "Reference             442\n",
       "Welingak Website      129\n",
       "Referral Sites        117\n",
       "Facebook               31\n",
       "NaN                    29\n",
       "bing                    6\n",
       "google                  5\n",
       "Click2call              4\n",
       "Social Media            2\n",
       "Live Chat               2\n",
       "Press_Release           1\n",
       "Pay per Click Ads       1\n",
       "NC_EDM                  1\n",
       "WeLearn                 1\n",
       "blog                    1\n",
       "testone                 1\n",
       "welearnblog_Home        1\n",
       "youtubechannel          1\n",
       "dtype: int64"
      ]
     },
     "execution_count": 661,
     "metadata": {},
     "output_type": "execute_result"
    }
   ],
   "source": [
    "data[['Lead Source']].value_counts(dropna=False)"
   ]
  },
  {
   "cell_type": "code",
   "execution_count": 662,
   "id": "ff35f720",
   "metadata": {},
   "outputs": [
    {
     "data": {
      "text/plain": [
       "Specialization                   \n",
       "NaN                                  3284\n",
       "Finance Management                    945\n",
       "Human Resource Management             820\n",
       "Marketing Management                  815\n",
       "Operations Management                 495\n",
       "Business Administration               390\n",
       "IT Projects Management                360\n",
       "Supply Chain Management               338\n",
       "Banking, Investment And Insurance     325\n",
       "Media and Advertising                 197\n",
       "Travel and Tourism                    189\n",
       "International Business                171\n",
       "Healthcare Management                 151\n",
       "Hospitality Management                107\n",
       "E-COMMERCE                            107\n",
       "Retail Management                      95\n",
       "Rural and Agribusiness                 70\n",
       "E-Business                             56\n",
       "Services Excellence                    38\n",
       "dtype: int64"
      ]
     },
     "execution_count": 662,
     "metadata": {},
     "output_type": "execute_result"
    }
   ],
   "source": [
    "data[['Specialization']].value_counts(dropna=False)"
   ]
  },
  {
   "cell_type": "code",
   "execution_count": 663,
   "id": "d626a19d",
   "metadata": {},
   "outputs": [
    {
     "data": {
      "text/plain": [
       "What is your current occupation\n",
       "Unemployed                         5410\n",
       "NaN                                2643\n",
       "Working Professional                667\n",
       "Student                             204\n",
       "Other                                13\n",
       "Housewife                             9\n",
       "Businessman                           7\n",
       "dtype: int64"
      ]
     },
     "execution_count": 663,
     "metadata": {},
     "output_type": "execute_result"
    }
   ],
   "source": [
    "data[['What is your current occupation']].value_counts(dropna=False)"
   ]
  },
  {
   "cell_type": "code",
   "execution_count": 664,
   "id": "93df86d8",
   "metadata": {},
   "outputs": [
    {
     "name": "stdout",
     "output_type": "stream",
     "text": [
      "<class 'pandas.core.frame.DataFrame'>\n",
      "Int64Index: 8953 entries, 0 to 9239\n",
      "Data columns (total 13 columns):\n",
      " #   Column                                         Non-Null Count  Dtype  \n",
      "---  ------                                         --------------  -----  \n",
      " 0   Prospect ID                                    8953 non-null   object \n",
      " 1   Lead Number                                    8953 non-null   int64  \n",
      " 2   Lead Origin                                    8953 non-null   object \n",
      " 3   Lead Source                                    8924 non-null   object \n",
      " 4   Do Not Email                                   8953 non-null   object \n",
      " 5   Converted                                      8953 non-null   int64  \n",
      " 6   TotalVisits                                    8953 non-null   float64\n",
      " 7   Total Time Spent on Website                    8953 non-null   int64  \n",
      " 8   Page Views Per Visit                           8953 non-null   float64\n",
      " 9   Specialization                                 5669 non-null   object \n",
      " 10  What is your current occupation                6310 non-null   object \n",
      " 11  What matters most to you in choosing a course  6292 non-null   object \n",
      " 12  A free copy of Mastering The Interview         8953 non-null   object \n",
      "dtypes: float64(2), int64(3), object(8)\n",
      "memory usage: 979.2+ KB\n"
     ]
    }
   ],
   "source": [
    "data.info()\n",
    "\n",
    "#How did you hear about X Education  \n",
    "#What matters most to you in choosing a course\n",
    " "
   ]
  },
  {
   "cell_type": "code",
   "execution_count": 665,
   "id": "a02dc07a",
   "metadata": {},
   "outputs": [
    {
     "data": {
      "text/plain": [
       "0    6155\n",
       "1    2798\n",
       "Name: A free copy of Mastering The Interview, dtype: int64"
      ]
     },
     "execution_count": 665,
     "metadata": {},
     "output_type": "execute_result"
    }
   ],
   "source": [
    "data['Do Not Email']=data['Do Not Email'].map(dict(Yes=1, No=0))\n",
    "data['A free copy of Mastering The Interview']=data['A free copy of Mastering The Interview'].map(dict(Yes=1, No=0))\n",
    "data['A free copy of Mastering The Interview'].value_counts()\n"
   ]
  },
  {
   "cell_type": "code",
   "execution_count": 666,
   "id": "96c9ef89",
   "metadata": {},
   "outputs": [],
   "source": [
    "# data.drop(['What matters most to you in choosing a course','How did you hear about X Education'], axis = 1, inplace = True)\n"
   ]
  },
  {
   "cell_type": "code",
   "execution_count": 601,
   "id": "c3d20c3f",
   "metadata": {},
   "outputs": [
    {
     "name": "stdout",
     "output_type": "stream",
     "text": [
      "<class 'pandas.core.frame.DataFrame'>\n",
      "Int64Index: 8953 entries, 0 to 9239\n",
      "Data columns (total 14 columns):\n",
      " #   Column                                         Non-Null Count  Dtype  \n",
      "---  ------                                         --------------  -----  \n",
      " 0   Prospect ID                                    8953 non-null   object \n",
      " 1   Lead Number                                    8953 non-null   int64  \n",
      " 2   Lead Origin                                    8953 non-null   object \n",
      " 3   Lead Source                                    8924 non-null   object \n",
      " 4   Do Not Email                                   8953 non-null   int64  \n",
      " 5   Converted                                      8953 non-null   int64  \n",
      " 6   TotalVisits                                    8953 non-null   float64\n",
      " 7   Total Time Spent on Website                    8953 non-null   int64  \n",
      " 8   Page Views Per Visit                           8953 non-null   float64\n",
      " 9   Specialization                                 5669 non-null   object \n",
      " 10  How did you hear about X Education             6789 non-null   object \n",
      " 11  What is your current occupation                6310 non-null   object \n",
      " 12  What matters most to you in choosing a course  6292 non-null   object \n",
      " 13  A free copy of Mastering The Interview         8953 non-null   int64  \n",
      "dtypes: float64(2), int64(5), object(7)\n",
      "memory usage: 1.0+ MB\n"
     ]
    }
   ],
   "source": [
    "data.info()"
   ]
  },
  {
   "cell_type": "code",
   "execution_count": 667,
   "id": "62e8727a",
   "metadata": {},
   "outputs": [
    {
     "data": {
      "text/plain": [
       "Prospect ID                                         0\n",
       "Lead Number                                         0\n",
       "Lead Origin                                         0\n",
       "Lead Source                                        29\n",
       "Do Not Email                                        0\n",
       "Converted                                           0\n",
       "TotalVisits                                         0\n",
       "Total Time Spent on Website                         0\n",
       "Page Views Per Visit                                0\n",
       "Specialization                                   3284\n",
       "What is your current occupation                  2643\n",
       "What matters most to you in choosing a course    2661\n",
       "A free copy of Mastering The Interview              0\n",
       "dtype: int64"
      ]
     },
     "execution_count": 667,
     "metadata": {},
     "output_type": "execute_result"
    }
   ],
   "source": [
    "data.isnull().sum()"
   ]
  },
  {
   "cell_type": "code",
   "execution_count": 668,
   "id": "06b71199",
   "metadata": {},
   "outputs": [],
   "source": [
    "data['Lead Source'].value_counts(dropna=False)\n",
    "data['Lead Source'].fillna(data['Lead Source'].mode()[0], inplace=True)"
   ]
  },
  {
   "cell_type": "code",
   "execution_count": 874,
   "id": "657e53b5",
   "metadata": {},
   "outputs": [],
   "source": [
    "data['Specialization'].value_counts(dropna=False)\n",
    "data['Specialization'] = data['Specialization'].fillna('not provided')\n"
   ]
  },
  {
   "cell_type": "code",
   "execution_count": 875,
   "id": "7fa8c4c8",
   "metadata": {},
   "outputs": [],
   "source": [
    "\n",
    "data['What is your current occupation'] = data['What is your current occupation'].fillna('not provided')\n",
    "data['What matters most to you in choosing a course'] = data['What matters most to you in choosing a course'].fillna('not provided')"
   ]
  },
  {
   "cell_type": "code",
   "execution_count": 876,
   "id": "18e44490",
   "metadata": {},
   "outputs": [
    {
     "ename": "KeyError",
     "evalue": "'How did you hear about X Education'",
     "output_type": "error",
     "traceback": [
      "\u001b[0;31m---------------------------------------------------------------------------\u001b[0m",
      "\u001b[0;31mKeyError\u001b[0m                                  Traceback (most recent call last)",
      "File \u001b[0;32m~/anaconda3/lib/python3.11/site-packages/pandas/core/indexes/base.py:3802\u001b[0m, in \u001b[0;36mIndex.get_loc\u001b[0;34m(self, key, method, tolerance)\u001b[0m\n\u001b[1;32m   3801\u001b[0m \u001b[38;5;28;01mtry\u001b[39;00m:\n\u001b[0;32m-> 3802\u001b[0m     \u001b[38;5;28;01mreturn\u001b[39;00m \u001b[38;5;28mself\u001b[39m\u001b[38;5;241m.\u001b[39m_engine\u001b[38;5;241m.\u001b[39mget_loc(casted_key)\n\u001b[1;32m   3803\u001b[0m \u001b[38;5;28;01mexcept\u001b[39;00m \u001b[38;5;167;01mKeyError\u001b[39;00m \u001b[38;5;28;01mas\u001b[39;00m err:\n",
      "File \u001b[0;32m~/anaconda3/lib/python3.11/site-packages/pandas/_libs/index.pyx:138\u001b[0m, in \u001b[0;36mpandas._libs.index.IndexEngine.get_loc\u001b[0;34m()\u001b[0m\n",
      "File \u001b[0;32m~/anaconda3/lib/python3.11/site-packages/pandas/_libs/index.pyx:165\u001b[0m, in \u001b[0;36mpandas._libs.index.IndexEngine.get_loc\u001b[0;34m()\u001b[0m\n",
      "File \u001b[0;32mpandas/_libs/hashtable_class_helper.pxi:5745\u001b[0m, in \u001b[0;36mpandas._libs.hashtable.PyObjectHashTable.get_item\u001b[0;34m()\u001b[0m\n",
      "File \u001b[0;32mpandas/_libs/hashtable_class_helper.pxi:5753\u001b[0m, in \u001b[0;36mpandas._libs.hashtable.PyObjectHashTable.get_item\u001b[0;34m()\u001b[0m\n",
      "\u001b[0;31mKeyError\u001b[0m: 'How did you hear about X Education'",
      "\nThe above exception was the direct cause of the following exception:\n",
      "\u001b[0;31mKeyError\u001b[0m                                  Traceback (most recent call last)",
      "Cell \u001b[0;32mIn[876], line 1\u001b[0m\n\u001b[0;32m----> 1\u001b[0m data[\u001b[38;5;124m'\u001b[39m\u001b[38;5;124mHow did you hear about X Education\u001b[39m\u001b[38;5;124m'\u001b[39m] \u001b[38;5;241m=\u001b[39m data[\u001b[38;5;124m'\u001b[39m\u001b[38;5;124mHow did you hear about X Education\u001b[39m\u001b[38;5;124m'\u001b[39m]\u001b[38;5;241m.\u001b[39mfillna(\u001b[38;5;124m'\u001b[39m\u001b[38;5;124mnot provided\u001b[39m\u001b[38;5;124m'\u001b[39m)\n",
      "File \u001b[0;32m~/anaconda3/lib/python3.11/site-packages/pandas/core/frame.py:3807\u001b[0m, in \u001b[0;36mDataFrame.__getitem__\u001b[0;34m(self, key)\u001b[0m\n\u001b[1;32m   3805\u001b[0m \u001b[38;5;28;01mif\u001b[39;00m \u001b[38;5;28mself\u001b[39m\u001b[38;5;241m.\u001b[39mcolumns\u001b[38;5;241m.\u001b[39mnlevels \u001b[38;5;241m>\u001b[39m \u001b[38;5;241m1\u001b[39m:\n\u001b[1;32m   3806\u001b[0m     \u001b[38;5;28;01mreturn\u001b[39;00m \u001b[38;5;28mself\u001b[39m\u001b[38;5;241m.\u001b[39m_getitem_multilevel(key)\n\u001b[0;32m-> 3807\u001b[0m indexer \u001b[38;5;241m=\u001b[39m \u001b[38;5;28mself\u001b[39m\u001b[38;5;241m.\u001b[39mcolumns\u001b[38;5;241m.\u001b[39mget_loc(key)\n\u001b[1;32m   3808\u001b[0m \u001b[38;5;28;01mif\u001b[39;00m is_integer(indexer):\n\u001b[1;32m   3809\u001b[0m     indexer \u001b[38;5;241m=\u001b[39m [indexer]\n",
      "File \u001b[0;32m~/anaconda3/lib/python3.11/site-packages/pandas/core/indexes/base.py:3804\u001b[0m, in \u001b[0;36mIndex.get_loc\u001b[0;34m(self, key, method, tolerance)\u001b[0m\n\u001b[1;32m   3802\u001b[0m     \u001b[38;5;28;01mreturn\u001b[39;00m \u001b[38;5;28mself\u001b[39m\u001b[38;5;241m.\u001b[39m_engine\u001b[38;5;241m.\u001b[39mget_loc(casted_key)\n\u001b[1;32m   3803\u001b[0m \u001b[38;5;28;01mexcept\u001b[39;00m \u001b[38;5;167;01mKeyError\u001b[39;00m \u001b[38;5;28;01mas\u001b[39;00m err:\n\u001b[0;32m-> 3804\u001b[0m     \u001b[38;5;28;01mraise\u001b[39;00m \u001b[38;5;167;01mKeyError\u001b[39;00m(key) \u001b[38;5;28;01mfrom\u001b[39;00m \u001b[38;5;21;01merr\u001b[39;00m\n\u001b[1;32m   3805\u001b[0m \u001b[38;5;28;01mexcept\u001b[39;00m \u001b[38;5;167;01mTypeError\u001b[39;00m:\n\u001b[1;32m   3806\u001b[0m     \u001b[38;5;66;03m# If we have a listlike key, _check_indexing_error will raise\u001b[39;00m\n\u001b[1;32m   3807\u001b[0m     \u001b[38;5;66;03m#  InvalidIndexError. Otherwise we fall through and re-raise\u001b[39;00m\n\u001b[1;32m   3808\u001b[0m     \u001b[38;5;66;03m#  the TypeError.\u001b[39;00m\n\u001b[1;32m   3809\u001b[0m     \u001b[38;5;28mself\u001b[39m\u001b[38;5;241m.\u001b[39m_check_indexing_error(key)\n",
      "\u001b[0;31mKeyError\u001b[0m: 'How did you hear about X Education'"
     ]
    }
   ],
   "source": [
    "data['How did you hear about X Education'] = data['How did you hear about X Education'].fillna('not provided')"
   ]
  },
  {
   "cell_type": "code",
   "execution_count": null,
   "id": "5da49302",
   "metadata": {},
   "outputs": [],
   "source": []
  },
  {
   "cell_type": "code",
   "execution_count": 877,
   "id": "3417913c",
   "metadata": {},
   "outputs": [
    {
     "data": {
      "text/plain": [
       "Prospect ID                                      0\n",
       "Lead Number                                      0\n",
       "Lead Origin                                      0\n",
       "Lead Source                                      0\n",
       "Do Not Email                                     0\n",
       "Converted                                        0\n",
       "TotalVisits                                      0\n",
       "Total Time Spent on Website                      0\n",
       "Page Views Per Visit                             0\n",
       "Specialization                                   0\n",
       "What is your current occupation                  0\n",
       "What matters most to you in choosing a course    0\n",
       "A free copy of Mastering The Interview           0\n",
       "dtype: int64"
      ]
     },
     "execution_count": 877,
     "metadata": {},
     "output_type": "execute_result"
    }
   ],
   "source": [
    "data.isnull().sum()"
   ]
  },
  {
   "cell_type": "code",
   "execution_count": 878,
   "id": "3467f5cb",
   "metadata": {},
   "outputs": [
    {
     "name": "stdout",
     "output_type": "stream",
     "text": [
      "<class 'pandas.core.frame.DataFrame'>\n",
      "Int64Index: 8953 entries, 0 to 9239\n",
      "Data columns (total 13 columns):\n",
      " #   Column                                         Non-Null Count  Dtype  \n",
      "---  ------                                         --------------  -----  \n",
      " 0   Prospect ID                                    8953 non-null   object \n",
      " 1   Lead Number                                    8953 non-null   int64  \n",
      " 2   Lead Origin                                    8953 non-null   object \n",
      " 3   Lead Source                                    8953 non-null   object \n",
      " 4   Do Not Email                                   8953 non-null   int64  \n",
      " 5   Converted                                      8953 non-null   int64  \n",
      " 6   TotalVisits                                    8953 non-null   float64\n",
      " 7   Total Time Spent on Website                    8953 non-null   int64  \n",
      " 8   Page Views Per Visit                           8953 non-null   float64\n",
      " 9   Specialization                                 8953 non-null   object \n",
      " 10  What is your current occupation                8953 non-null   object \n",
      " 11  What matters most to you in choosing a course  8953 non-null   object \n",
      " 12  A free copy of Mastering The Interview         8953 non-null   int64  \n",
      "dtypes: float64(2), int64(5), object(6)\n",
      "memory usage: 1.2+ MB\n"
     ]
    }
   ],
   "source": [
    "data.info()"
   ]
  },
  {
   "cell_type": "code",
   "execution_count": null,
   "id": "40a783d3",
   "metadata": {},
   "outputs": [],
   "source": []
  },
  {
   "cell_type": "code",
   "execution_count": 879,
   "id": "51b61ef2",
   "metadata": {},
   "outputs": [],
   "source": [
    "## VIF was very high so merging some field , found it after creating once\n",
    "data['Lead Source'] = data['Lead Source'].replace('google','Google')\n",
    "data['Lead Source'] = data['Lead Source'].replace('Referral Sites','Reference')\n",
    "data['Lead Source'] = data['Lead Source'].replace('Facebook','Social Media')\n",
    "data['Lead Source'] = data['Lead Source'].replace(['bing','Click2call','Press_Release',\n",
    "                                                     'youtubechannel','welearnblog_Home',\n",
    "                                                     'WeLearn','blog','Pay per Click Ads','Live Chat',\n",
    "                                                    'testone','NC_EDM'] ,'Others') \n",
    "data['Specialization'] = data['Specialization'].replace(['Finance Management','Human Resource Management',\n",
    "                                                           'Marketing Management','Operations Management',\n",
    "                                                           'IT Projects Management','Supply Chain Management',\n",
    "                                                    'Healthcare Management','Hospitality Management',\n",
    "                                                           'Retail Management'] ,'Management_Related')\n",
    "data['Specialization'] = data['Specialization'].replace(['E-Business','International Business'] ,'Business')\n"
   ]
  },
  {
   "cell_type": "code",
   "execution_count": 880,
   "id": "47262757",
   "metadata": {},
   "outputs": [
    {
     "data": {
      "text/plain": [
       "Google              2870\n",
       "Direct Traffic      2499\n",
       "Olark Chat          1751\n",
       "Organic Search      1092\n",
       "Reference            559\n",
       "Welingak Website     129\n",
       "Social Media          33\n",
       "Others                20\n",
       "Name: Lead Source, dtype: int64"
      ]
     },
     "execution_count": 880,
     "metadata": {},
     "output_type": "execute_result"
    }
   ],
   "source": [
    "data['Lead Source'].value_counts()"
   ]
  },
  {
   "cell_type": "markdown",
   "id": "90be74d2",
   "metadata": {},
   "source": [
    "## Model prepare"
   ]
  },
  {
   "cell_type": "markdown",
   "id": "aac02fad",
   "metadata": {},
   "source": [
    "## Convert categorical variables into dummy/indicator variables. These dummy variables are binary (0 or 1) variables representing the presence or absence of a particular category in the original variable. This function is particularly useful when you have categorical variables that you want to include in a machine learning model"
   ]
  },
  {
   "cell_type": "code",
   "execution_count": 881,
   "id": "5a157917",
   "metadata": {},
   "outputs": [
    {
     "data": {
      "text/plain": [
       "Index(['Lead Origin_Landing Page Submission', 'Lead Origin_Lead Add Form',\n",
       "       'Lead Origin_Lead Import', 'Lead Source_Google',\n",
       "       'Lead Source_Olark Chat', 'Lead Source_Organic Search',\n",
       "       'Lead Source_Others', 'Lead Source_Reference',\n",
       "       'Lead Source_Social Media', 'Lead Source_Welingak Website',\n",
       "       'Specialization_Business', 'Specialization_Business Administration',\n",
       "       'Specialization_E-COMMERCE', 'Specialization_Management_Related',\n",
       "       'Specialization_Media and Advertising',\n",
       "       'Specialization_Rural and Agribusiness',\n",
       "       'Specialization_Services Excellence',\n",
       "       'Specialization_Travel and Tourism', 'Specialization_not provided',\n",
       "       'What is your current occupation_Housewife',\n",
       "       'What is your current occupation_Other',\n",
       "       'What is your current occupation_Student',\n",
       "       'What is your current occupation_Unemployed',\n",
       "       'What is your current occupation_Working Professional',\n",
       "       'What is your current occupation_not provided'],\n",
       "      dtype='object')"
      ]
     },
     "execution_count": 881,
     "metadata": {},
     "output_type": "execute_result"
    }
   ],
   "source": [
    "dummy = pd.get_dummies(data[['Lead Origin', 'Lead Source', 'Specialization', 'What is your current occupation']], drop_first = True)\n",
    "dummy.columns"
   ]
  },
  {
   "cell_type": "code",
   "execution_count": 882,
   "id": "db77efeb",
   "metadata": {},
   "outputs": [
    {
     "name": "stdout",
     "output_type": "stream",
     "text": [
      "Lead Origin_Landing Page Submission                     0\n",
      "Lead Origin_Lead Add Form                               0\n",
      "Lead Origin_Lead Import                                 0\n",
      "Lead Source_Google                                      0\n",
      "Lead Source_Olark Chat                                  0\n",
      "Lead Source_Organic Search                              0\n",
      "Lead Source_Others                                      0\n",
      "Lead Source_Reference                                   0\n",
      "Lead Source_Social Media                                0\n",
      "Lead Source_Welingak Website                            0\n",
      "Specialization_Business                                 0\n",
      "Specialization_Business Administration                  0\n",
      "Specialization_E-COMMERCE                               0\n",
      "Specialization_Management_Related                       0\n",
      "Specialization_Media and Advertising                    0\n",
      "Specialization_Rural and Agribusiness                   0\n",
      "Specialization_Services Excellence                      0\n",
      "Specialization_Travel and Tourism                       0\n",
      "Specialization_not provided                             0\n",
      "What is your current occupation_Housewife               0\n",
      "What is your current occupation_Other                   0\n",
      "What is your current occupation_Student                 0\n",
      "What is your current occupation_Unemployed              0\n",
      "What is your current occupation_Working Professional    0\n",
      "What is your current occupation_not provided            0\n",
      "dtype: int64\n",
      "Prospect ID                                      0\n",
      "Lead Number                                      0\n",
      "Lead Origin                                      0\n",
      "Lead Source                                      0\n",
      "Do Not Email                                     0\n",
      "Converted                                        0\n",
      "TotalVisits                                      0\n",
      "Total Time Spent on Website                      0\n",
      "Page Views Per Visit                             0\n",
      "Specialization                                   0\n",
      "What is your current occupation                  0\n",
      "What matters most to you in choosing a course    0\n",
      "A free copy of Mastering The Interview           0\n",
      "dtype: int64\n"
     ]
    }
   ],
   "source": [
    "print(dummy.isnull().sum())\n",
    "print(data.isnull().sum())"
   ]
  },
  {
   "cell_type": "code",
   "execution_count": 883,
   "id": "03e7d26c",
   "metadata": {},
   "outputs": [],
   "source": [
    "data1 = data\n",
    "data1 = pd.concat([data1, dummy], axis=1)\n",
    "data1.drop(['Lead Origin', 'Lead Source', 'Specialization', 'What is your current occupation'], axis = 1, inplace = True)\n"
   ]
  },
  {
   "cell_type": "code",
   "execution_count": 884,
   "id": "48eb0d61",
   "metadata": {},
   "outputs": [
    {
     "data": {
      "text/plain": [
       "Prospect ID                                             0\n",
       "Lead Number                                             0\n",
       "Do Not Email                                            0\n",
       "Converted                                               0\n",
       "TotalVisits                                             0\n",
       "Total Time Spent on Website                             0\n",
       "Page Views Per Visit                                    0\n",
       "What matters most to you in choosing a course           0\n",
       "A free copy of Mastering The Interview                  0\n",
       "Lead Origin_Landing Page Submission                     0\n",
       "Lead Origin_Lead Add Form                               0\n",
       "Lead Origin_Lead Import                                 0\n",
       "Lead Source_Google                                      0\n",
       "Lead Source_Olark Chat                                  0\n",
       "Lead Source_Organic Search                              0\n",
       "Lead Source_Others                                      0\n",
       "Lead Source_Reference                                   0\n",
       "Lead Source_Social Media                                0\n",
       "Lead Source_Welingak Website                            0\n",
       "Specialization_Business                                 0\n",
       "Specialization_Business Administration                  0\n",
       "Specialization_E-COMMERCE                               0\n",
       "Specialization_Management_Related                       0\n",
       "Specialization_Media and Advertising                    0\n",
       "Specialization_Rural and Agribusiness                   0\n",
       "Specialization_Services Excellence                      0\n",
       "Specialization_Travel and Tourism                       0\n",
       "Specialization_not provided                             0\n",
       "What is your current occupation_Housewife               0\n",
       "What is your current occupation_Other                   0\n",
       "What is your current occupation_Student                 0\n",
       "What is your current occupation_Unemployed              0\n",
       "What is your current occupation_Working Professional    0\n",
       "What is your current occupation_not provided            0\n",
       "dtype: int64"
      ]
     },
     "execution_count": 884,
     "metadata": {},
     "output_type": "execute_result"
    }
   ],
   "source": [
    "data1.isnull().sum()"
   ]
  },
  {
   "cell_type": "code",
   "execution_count": 885,
   "id": "3f0bec3e",
   "metadata": {},
   "outputs": [
    {
     "data": {
      "text/plain": [
       "1    4769\n",
       "0    4184\n",
       "Name: Lead Origin_Landing Page Submission, dtype: int64"
      ]
     },
     "execution_count": 885,
     "metadata": {},
     "output_type": "execute_result"
    }
   ],
   "source": [
    "dummy['Lead Origin_Landing Page Submission'].value_counts(dropna=False)"
   ]
  },
  {
   "cell_type": "code",
   "execution_count": 886,
   "id": "c0f0f954",
   "metadata": {},
   "outputs": [
    {
     "data": {
      "text/plain": [
       "1    4769\n",
       "0    4184\n",
       "Name: Lead Origin_Landing Page Submission, dtype: int64"
      ]
     },
     "execution_count": 886,
     "metadata": {},
     "output_type": "execute_result"
    }
   ],
   "source": [
    "data1['Lead Origin_Landing Page Submission'].value_counts(dropna=False)"
   ]
  },
  {
   "cell_type": "code",
   "execution_count": 887,
   "id": "23a36ea5",
   "metadata": {},
   "outputs": [
    {
     "data": {
      "text/html": [
       "<div>\n",
       "<style scoped>\n",
       "    .dataframe tbody tr th:only-of-type {\n",
       "        vertical-align: middle;\n",
       "    }\n",
       "\n",
       "    .dataframe tbody tr th {\n",
       "        vertical-align: top;\n",
       "    }\n",
       "\n",
       "    .dataframe thead th {\n",
       "        text-align: right;\n",
       "    }\n",
       "</style>\n",
       "<table border=\"1\" class=\"dataframe\">\n",
       "  <thead>\n",
       "    <tr style=\"text-align: right;\">\n",
       "      <th></th>\n",
       "      <th>Prospect ID</th>\n",
       "      <th>Lead Number</th>\n",
       "      <th>Do Not Email</th>\n",
       "      <th>Converted</th>\n",
       "      <th>TotalVisits</th>\n",
       "      <th>Total Time Spent on Website</th>\n",
       "      <th>Page Views Per Visit</th>\n",
       "      <th>What matters most to you in choosing a course</th>\n",
       "      <th>A free copy of Mastering The Interview</th>\n",
       "      <th>Lead Origin_Landing Page Submission</th>\n",
       "      <th>Lead Origin_Lead Add Form</th>\n",
       "      <th>Lead Origin_Lead Import</th>\n",
       "      <th>Lead Source_Google</th>\n",
       "      <th>Lead Source_Olark Chat</th>\n",
       "      <th>Lead Source_Organic Search</th>\n",
       "      <th>Lead Source_Others</th>\n",
       "      <th>Lead Source_Reference</th>\n",
       "      <th>Lead Source_Social Media</th>\n",
       "      <th>Lead Source_Welingak Website</th>\n",
       "      <th>Specialization_Business</th>\n",
       "      <th>Specialization_Business Administration</th>\n",
       "      <th>Specialization_E-COMMERCE</th>\n",
       "      <th>Specialization_Management_Related</th>\n",
       "      <th>Specialization_Media and Advertising</th>\n",
       "      <th>Specialization_Rural and Agribusiness</th>\n",
       "      <th>Specialization_Services Excellence</th>\n",
       "      <th>Specialization_Travel and Tourism</th>\n",
       "      <th>Specialization_not provided</th>\n",
       "      <th>What is your current occupation_Housewife</th>\n",
       "      <th>What is your current occupation_Other</th>\n",
       "      <th>What is your current occupation_Student</th>\n",
       "      <th>What is your current occupation_Unemployed</th>\n",
       "      <th>What is your current occupation_Working Professional</th>\n",
       "      <th>What is your current occupation_not provided</th>\n",
       "    </tr>\n",
       "  </thead>\n",
       "  <tbody>\n",
       "  </tbody>\n",
       "</table>\n",
       "</div>"
      ],
      "text/plain": [
       "Empty DataFrame\n",
       "Columns: [Prospect ID, Lead Number, Do Not Email, Converted, TotalVisits, Total Time Spent on Website, Page Views Per Visit, What matters most to you in choosing a course, A free copy of Mastering The Interview, Lead Origin_Landing Page Submission, Lead Origin_Lead Add Form, Lead Origin_Lead Import, Lead Source_Google, Lead Source_Olark Chat, Lead Source_Organic Search, Lead Source_Others, Lead Source_Reference, Lead Source_Social Media, Lead Source_Welingak Website, Specialization_Business, Specialization_Business Administration, Specialization_E-COMMERCE, Specialization_Management_Related, Specialization_Media and Advertising, Specialization_Rural and Agribusiness, Specialization_Services Excellence, Specialization_Travel and Tourism, Specialization_not provided, What is your current occupation_Housewife, What is your current occupation_Other, What is your current occupation_Student, What is your current occupation_Unemployed, What is your current occupation_Working Professional, What is your current occupation_not provided]\n",
       "Index: []"
      ]
     },
     "execution_count": 887,
     "metadata": {},
     "output_type": "execute_result"
    }
   ],
   "source": [
    "data1[data1['Lead Origin_Landing Page Submission'].isnull() == True]"
   ]
  },
  {
   "cell_type": "code",
   "execution_count": 888,
   "id": "44e55530",
   "metadata": {},
   "outputs": [
    {
     "data": {
      "text/html": [
       "<div>\n",
       "<style scoped>\n",
       "    .dataframe tbody tr th:only-of-type {\n",
       "        vertical-align: middle;\n",
       "    }\n",
       "\n",
       "    .dataframe tbody tr th {\n",
       "        vertical-align: top;\n",
       "    }\n",
       "\n",
       "    .dataframe thead th {\n",
       "        text-align: right;\n",
       "    }\n",
       "</style>\n",
       "<table border=\"1\" class=\"dataframe\">\n",
       "  <thead>\n",
       "    <tr style=\"text-align: right;\">\n",
       "      <th></th>\n",
       "      <th>Prospect ID</th>\n",
       "      <th>Lead Number</th>\n",
       "      <th>Lead Origin</th>\n",
       "      <th>Lead Source</th>\n",
       "      <th>Do Not Email</th>\n",
       "      <th>Converted</th>\n",
       "      <th>TotalVisits</th>\n",
       "      <th>Total Time Spent on Website</th>\n",
       "      <th>Page Views Per Visit</th>\n",
       "      <th>Specialization</th>\n",
       "      <th>What is your current occupation</th>\n",
       "      <th>What matters most to you in choosing a course</th>\n",
       "      <th>A free copy of Mastering The Interview</th>\n",
       "    </tr>\n",
       "  </thead>\n",
       "  <tbody>\n",
       "    <tr>\n",
       "      <th>58</th>\n",
       "      <td>d93bfdc0-4719-4f0a-ad6b-31070823dfbb</td>\n",
       "      <td>659942</td>\n",
       "      <td>Landing Page Submission</td>\n",
       "      <td>Organic Search</td>\n",
       "      <td>0</td>\n",
       "      <td>0</td>\n",
       "      <td>17.0</td>\n",
       "      <td>409</td>\n",
       "      <td>8.5</td>\n",
       "      <td>Management_Related</td>\n",
       "      <td>Unemployed</td>\n",
       "      <td>Better Career Prospects</td>\n",
       "      <td>1</td>\n",
       "    </tr>\n",
       "  </tbody>\n",
       "</table>\n",
       "</div>"
      ],
      "text/plain": [
       "                             Prospect ID  Lead Number  \\\n",
       "58  d93bfdc0-4719-4f0a-ad6b-31070823dfbb       659942   \n",
       "\n",
       "                Lead Origin     Lead Source  Do Not Email  Converted  \\\n",
       "58  Landing Page Submission  Organic Search             0          0   \n",
       "\n",
       "    TotalVisits  Total Time Spent on Website  Page Views Per Visit  \\\n",
       "58         17.0                          409                   8.5   \n",
       "\n",
       "        Specialization What is your current occupation  \\\n",
       "58  Management_Related                      Unemployed   \n",
       "\n",
       "   What matters most to you in choosing a course  \\\n",
       "58                       Better Career Prospects   \n",
       "\n",
       "    A free copy of Mastering The Interview  \n",
       "58                                       1  "
      ]
     },
     "execution_count": 888,
     "metadata": {},
     "output_type": "execute_result"
    }
   ],
   "source": [
    "data[data['Prospect ID'] == 'd93bfdc0-4719-4f0a-ad6b-31070823dfbb']"
   ]
  },
  {
   "cell_type": "code",
   "execution_count": 889,
   "id": "6b31a50c",
   "metadata": {},
   "outputs": [
    {
     "data": {
      "text/html": [
       "<div>\n",
       "<style scoped>\n",
       "    .dataframe tbody tr th:only-of-type {\n",
       "        vertical-align: middle;\n",
       "    }\n",
       "\n",
       "    .dataframe tbody tr th {\n",
       "        vertical-align: top;\n",
       "    }\n",
       "\n",
       "    .dataframe thead th {\n",
       "        text-align: right;\n",
       "    }\n",
       "</style>\n",
       "<table border=\"1\" class=\"dataframe\">\n",
       "  <thead>\n",
       "    <tr style=\"text-align: right;\">\n",
       "      <th></th>\n",
       "      <th>Prospect ID</th>\n",
       "      <th>Lead Number</th>\n",
       "      <th>Lead Origin</th>\n",
       "      <th>Lead Source</th>\n",
       "      <th>Do Not Email</th>\n",
       "      <th>Converted</th>\n",
       "      <th>TotalVisits</th>\n",
       "      <th>Total Time Spent on Website</th>\n",
       "      <th>Page Views Per Visit</th>\n",
       "      <th>Specialization</th>\n",
       "      <th>What is your current occupation</th>\n",
       "      <th>What matters most to you in choosing a course</th>\n",
       "      <th>A free copy of Mastering The Interview</th>\n",
       "    </tr>\n",
       "  </thead>\n",
       "  <tbody>\n",
       "    <tr>\n",
       "      <th>0</th>\n",
       "      <td>7927b2df-8bba-4d29-b9a2-b6e0beafe620</td>\n",
       "      <td>660737</td>\n",
       "      <td>API</td>\n",
       "      <td>Olark Chat</td>\n",
       "      <td>0</td>\n",
       "      <td>0</td>\n",
       "      <td>0.0</td>\n",
       "      <td>0</td>\n",
       "      <td>0.0</td>\n",
       "      <td>not provided</td>\n",
       "      <td>Unemployed</td>\n",
       "      <td>Better Career Prospects</td>\n",
       "      <td>0</td>\n",
       "    </tr>\n",
       "    <tr>\n",
       "      <th>1</th>\n",
       "      <td>2a272436-5132-4136-86fa-dcc88c88f482</td>\n",
       "      <td>660728</td>\n",
       "      <td>API</td>\n",
       "      <td>Organic Search</td>\n",
       "      <td>0</td>\n",
       "      <td>0</td>\n",
       "      <td>5.0</td>\n",
       "      <td>674</td>\n",
       "      <td>2.5</td>\n",
       "      <td>not provided</td>\n",
       "      <td>Unemployed</td>\n",
       "      <td>Better Career Prospects</td>\n",
       "      <td>0</td>\n",
       "    </tr>\n",
       "    <tr>\n",
       "      <th>2</th>\n",
       "      <td>8cc8c611-a219-4f35-ad23-fdfd2656bd8a</td>\n",
       "      <td>660727</td>\n",
       "      <td>Landing Page Submission</td>\n",
       "      <td>Direct Traffic</td>\n",
       "      <td>0</td>\n",
       "      <td>1</td>\n",
       "      <td>2.0</td>\n",
       "      <td>1532</td>\n",
       "      <td>2.0</td>\n",
       "      <td>Business Administration</td>\n",
       "      <td>Student</td>\n",
       "      <td>Better Career Prospects</td>\n",
       "      <td>1</td>\n",
       "    </tr>\n",
       "    <tr>\n",
       "      <th>3</th>\n",
       "      <td>0cc2df48-7cf4-4e39-9de9-19797f9b38cc</td>\n",
       "      <td>660719</td>\n",
       "      <td>Landing Page Submission</td>\n",
       "      <td>Direct Traffic</td>\n",
       "      <td>0</td>\n",
       "      <td>0</td>\n",
       "      <td>1.0</td>\n",
       "      <td>305</td>\n",
       "      <td>1.0</td>\n",
       "      <td>Media and Advertising</td>\n",
       "      <td>Unemployed</td>\n",
       "      <td>Better Career Prospects</td>\n",
       "      <td>0</td>\n",
       "    </tr>\n",
       "    <tr>\n",
       "      <th>4</th>\n",
       "      <td>3256f628-e534-4826-9d63-4a8b88782852</td>\n",
       "      <td>660681</td>\n",
       "      <td>Landing Page Submission</td>\n",
       "      <td>Google</td>\n",
       "      <td>0</td>\n",
       "      <td>1</td>\n",
       "      <td>2.0</td>\n",
       "      <td>1428</td>\n",
       "      <td>1.0</td>\n",
       "      <td>not provided</td>\n",
       "      <td>Unemployed</td>\n",
       "      <td>Better Career Prospects</td>\n",
       "      <td>0</td>\n",
       "    </tr>\n",
       "  </tbody>\n",
       "</table>\n",
       "</div>"
      ],
      "text/plain": [
       "                            Prospect ID  Lead Number              Lead Origin  \\\n",
       "0  7927b2df-8bba-4d29-b9a2-b6e0beafe620       660737                      API   \n",
       "1  2a272436-5132-4136-86fa-dcc88c88f482       660728                      API   \n",
       "2  8cc8c611-a219-4f35-ad23-fdfd2656bd8a       660727  Landing Page Submission   \n",
       "3  0cc2df48-7cf4-4e39-9de9-19797f9b38cc       660719  Landing Page Submission   \n",
       "4  3256f628-e534-4826-9d63-4a8b88782852       660681  Landing Page Submission   \n",
       "\n",
       "      Lead Source  Do Not Email  Converted  TotalVisits  \\\n",
       "0      Olark Chat             0          0          0.0   \n",
       "1  Organic Search             0          0          5.0   \n",
       "2  Direct Traffic             0          1          2.0   \n",
       "3  Direct Traffic             0          0          1.0   \n",
       "4          Google             0          1          2.0   \n",
       "\n",
       "   Total Time Spent on Website  Page Views Per Visit           Specialization  \\\n",
       "0                            0                   0.0             not provided   \n",
       "1                          674                   2.5             not provided   \n",
       "2                         1532                   2.0  Business Administration   \n",
       "3                          305                   1.0    Media and Advertising   \n",
       "4                         1428                   1.0             not provided   \n",
       "\n",
       "  What is your current occupation  \\\n",
       "0                      Unemployed   \n",
       "1                      Unemployed   \n",
       "2                         Student   \n",
       "3                      Unemployed   \n",
       "4                      Unemployed   \n",
       "\n",
       "  What matters most to you in choosing a course  \\\n",
       "0                       Better Career Prospects   \n",
       "1                       Better Career Prospects   \n",
       "2                       Better Career Prospects   \n",
       "3                       Better Career Prospects   \n",
       "4                       Better Career Prospects   \n",
       "\n",
       "   A free copy of Mastering The Interview  \n",
       "0                                       0  \n",
       "1                                       0  \n",
       "2                                       1  \n",
       "3                                       0  \n",
       "4                                       0  "
      ]
     },
     "execution_count": 889,
     "metadata": {},
     "output_type": "execute_result"
    }
   ],
   "source": [
    "pd.set_option('display.max_columns', None)\n",
    "pd.set_option('display.max_rows', None)\n",
    "data.head()"
   ]
  },
  {
   "cell_type": "code",
   "execution_count": 890,
   "id": "bd5bc5b5",
   "metadata": {},
   "outputs": [
    {
     "data": {
      "text/plain": [
       "Prospect ID                                             0\n",
       "Lead Number                                             0\n",
       "Do Not Email                                            0\n",
       "Converted                                               0\n",
       "TotalVisits                                             0\n",
       "Total Time Spent on Website                             0\n",
       "Page Views Per Visit                                    0\n",
       "What matters most to you in choosing a course           0\n",
       "A free copy of Mastering The Interview                  0\n",
       "Lead Origin_Landing Page Submission                     0\n",
       "Lead Origin_Lead Add Form                               0\n",
       "Lead Origin_Lead Import                                 0\n",
       "Lead Source_Google                                      0\n",
       "Lead Source_Olark Chat                                  0\n",
       "Lead Source_Organic Search                              0\n",
       "Lead Source_Others                                      0\n",
       "Lead Source_Reference                                   0\n",
       "Lead Source_Social Media                                0\n",
       "Lead Source_Welingak Website                            0\n",
       "Specialization_Business                                 0\n",
       "Specialization_Business Administration                  0\n",
       "Specialization_E-COMMERCE                               0\n",
       "Specialization_Management_Related                       0\n",
       "Specialization_Media and Advertising                    0\n",
       "Specialization_Rural and Agribusiness                   0\n",
       "Specialization_Services Excellence                      0\n",
       "Specialization_Travel and Tourism                       0\n",
       "Specialization_not provided                             0\n",
       "What is your current occupation_Housewife               0\n",
       "What is your current occupation_Other                   0\n",
       "What is your current occupation_Student                 0\n",
       "What is your current occupation_Unemployed              0\n",
       "What is your current occupation_Working Professional    0\n",
       "What is your current occupation_not provided            0\n",
       "dtype: int64"
      ]
     },
     "execution_count": 890,
     "metadata": {},
     "output_type": "execute_result"
    }
   ],
   "source": [
    "data1.isnull().sum()"
   ]
  },
  {
   "cell_type": "code",
   "execution_count": 891,
   "id": "08d84e58",
   "metadata": {},
   "outputs": [],
   "source": [
    "X = data1.drop(['Prospect ID','Lead Number', 'Converted','What matters most to you in choosing a course'], axis=1)\n"
   ]
  },
  {
   "cell_type": "code",
   "execution_count": 892,
   "id": "3f7be704",
   "metadata": {},
   "outputs": [],
   "source": [
    "Y = data1['Converted']"
   ]
  },
  {
   "cell_type": "code",
   "execution_count": 893,
   "id": "bf805578",
   "metadata": {},
   "outputs": [
    {
     "data": {
      "text/html": [
       "<div>\n",
       "<style scoped>\n",
       "    .dataframe tbody tr th:only-of-type {\n",
       "        vertical-align: middle;\n",
       "    }\n",
       "\n",
       "    .dataframe tbody tr th {\n",
       "        vertical-align: top;\n",
       "    }\n",
       "\n",
       "    .dataframe thead th {\n",
       "        text-align: right;\n",
       "    }\n",
       "</style>\n",
       "<table border=\"1\" class=\"dataframe\">\n",
       "  <thead>\n",
       "    <tr style=\"text-align: right;\">\n",
       "      <th></th>\n",
       "      <th>Do Not Email</th>\n",
       "      <th>TotalVisits</th>\n",
       "      <th>Total Time Spent on Website</th>\n",
       "      <th>Page Views Per Visit</th>\n",
       "      <th>A free copy of Mastering The Interview</th>\n",
       "      <th>Lead Origin_Landing Page Submission</th>\n",
       "      <th>Lead Origin_Lead Add Form</th>\n",
       "      <th>Lead Origin_Lead Import</th>\n",
       "      <th>Lead Source_Google</th>\n",
       "      <th>Lead Source_Olark Chat</th>\n",
       "      <th>Lead Source_Organic Search</th>\n",
       "      <th>Lead Source_Others</th>\n",
       "      <th>Lead Source_Reference</th>\n",
       "      <th>Lead Source_Social Media</th>\n",
       "      <th>Lead Source_Welingak Website</th>\n",
       "      <th>Specialization_Business</th>\n",
       "      <th>Specialization_Business Administration</th>\n",
       "      <th>Specialization_E-COMMERCE</th>\n",
       "      <th>Specialization_Management_Related</th>\n",
       "      <th>Specialization_Media and Advertising</th>\n",
       "      <th>Specialization_Rural and Agribusiness</th>\n",
       "      <th>Specialization_Services Excellence</th>\n",
       "      <th>Specialization_Travel and Tourism</th>\n",
       "      <th>Specialization_not provided</th>\n",
       "      <th>What is your current occupation_Housewife</th>\n",
       "      <th>What is your current occupation_Other</th>\n",
       "      <th>What is your current occupation_Student</th>\n",
       "      <th>What is your current occupation_Unemployed</th>\n",
       "      <th>What is your current occupation_Working Professional</th>\n",
       "      <th>What is your current occupation_not provided</th>\n",
       "    </tr>\n",
       "  </thead>\n",
       "  <tbody>\n",
       "    <tr>\n",
       "      <th>0</th>\n",
       "      <td>0</td>\n",
       "      <td>0.0</td>\n",
       "      <td>0</td>\n",
       "      <td>0.0</td>\n",
       "      <td>0</td>\n",
       "      <td>0</td>\n",
       "      <td>0</td>\n",
       "      <td>0</td>\n",
       "      <td>0</td>\n",
       "      <td>1</td>\n",
       "      <td>0</td>\n",
       "      <td>0</td>\n",
       "      <td>0</td>\n",
       "      <td>0</td>\n",
       "      <td>0</td>\n",
       "      <td>0</td>\n",
       "      <td>0</td>\n",
       "      <td>0</td>\n",
       "      <td>0</td>\n",
       "      <td>0</td>\n",
       "      <td>0</td>\n",
       "      <td>0</td>\n",
       "      <td>0</td>\n",
       "      <td>1</td>\n",
       "      <td>0</td>\n",
       "      <td>0</td>\n",
       "      <td>0</td>\n",
       "      <td>1</td>\n",
       "      <td>0</td>\n",
       "      <td>0</td>\n",
       "    </tr>\n",
       "    <tr>\n",
       "      <th>1</th>\n",
       "      <td>0</td>\n",
       "      <td>5.0</td>\n",
       "      <td>674</td>\n",
       "      <td>2.5</td>\n",
       "      <td>0</td>\n",
       "      <td>0</td>\n",
       "      <td>0</td>\n",
       "      <td>0</td>\n",
       "      <td>0</td>\n",
       "      <td>0</td>\n",
       "      <td>1</td>\n",
       "      <td>0</td>\n",
       "      <td>0</td>\n",
       "      <td>0</td>\n",
       "      <td>0</td>\n",
       "      <td>0</td>\n",
       "      <td>0</td>\n",
       "      <td>0</td>\n",
       "      <td>0</td>\n",
       "      <td>0</td>\n",
       "      <td>0</td>\n",
       "      <td>0</td>\n",
       "      <td>0</td>\n",
       "      <td>1</td>\n",
       "      <td>0</td>\n",
       "      <td>0</td>\n",
       "      <td>0</td>\n",
       "      <td>1</td>\n",
       "      <td>0</td>\n",
       "      <td>0</td>\n",
       "    </tr>\n",
       "    <tr>\n",
       "      <th>2</th>\n",
       "      <td>0</td>\n",
       "      <td>2.0</td>\n",
       "      <td>1532</td>\n",
       "      <td>2.0</td>\n",
       "      <td>1</td>\n",
       "      <td>1</td>\n",
       "      <td>0</td>\n",
       "      <td>0</td>\n",
       "      <td>0</td>\n",
       "      <td>0</td>\n",
       "      <td>0</td>\n",
       "      <td>0</td>\n",
       "      <td>0</td>\n",
       "      <td>0</td>\n",
       "      <td>0</td>\n",
       "      <td>0</td>\n",
       "      <td>1</td>\n",
       "      <td>0</td>\n",
       "      <td>0</td>\n",
       "      <td>0</td>\n",
       "      <td>0</td>\n",
       "      <td>0</td>\n",
       "      <td>0</td>\n",
       "      <td>0</td>\n",
       "      <td>0</td>\n",
       "      <td>0</td>\n",
       "      <td>1</td>\n",
       "      <td>0</td>\n",
       "      <td>0</td>\n",
       "      <td>0</td>\n",
       "    </tr>\n",
       "    <tr>\n",
       "      <th>3</th>\n",
       "      <td>0</td>\n",
       "      <td>1.0</td>\n",
       "      <td>305</td>\n",
       "      <td>1.0</td>\n",
       "      <td>0</td>\n",
       "      <td>1</td>\n",
       "      <td>0</td>\n",
       "      <td>0</td>\n",
       "      <td>0</td>\n",
       "      <td>0</td>\n",
       "      <td>0</td>\n",
       "      <td>0</td>\n",
       "      <td>0</td>\n",
       "      <td>0</td>\n",
       "      <td>0</td>\n",
       "      <td>0</td>\n",
       "      <td>0</td>\n",
       "      <td>0</td>\n",
       "      <td>0</td>\n",
       "      <td>1</td>\n",
       "      <td>0</td>\n",
       "      <td>0</td>\n",
       "      <td>0</td>\n",
       "      <td>0</td>\n",
       "      <td>0</td>\n",
       "      <td>0</td>\n",
       "      <td>0</td>\n",
       "      <td>1</td>\n",
       "      <td>0</td>\n",
       "      <td>0</td>\n",
       "    </tr>\n",
       "    <tr>\n",
       "      <th>4</th>\n",
       "      <td>0</td>\n",
       "      <td>2.0</td>\n",
       "      <td>1428</td>\n",
       "      <td>1.0</td>\n",
       "      <td>0</td>\n",
       "      <td>1</td>\n",
       "      <td>0</td>\n",
       "      <td>0</td>\n",
       "      <td>1</td>\n",
       "      <td>0</td>\n",
       "      <td>0</td>\n",
       "      <td>0</td>\n",
       "      <td>0</td>\n",
       "      <td>0</td>\n",
       "      <td>0</td>\n",
       "      <td>0</td>\n",
       "      <td>0</td>\n",
       "      <td>0</td>\n",
       "      <td>0</td>\n",
       "      <td>0</td>\n",
       "      <td>0</td>\n",
       "      <td>0</td>\n",
       "      <td>0</td>\n",
       "      <td>1</td>\n",
       "      <td>0</td>\n",
       "      <td>0</td>\n",
       "      <td>0</td>\n",
       "      <td>1</td>\n",
       "      <td>0</td>\n",
       "      <td>0</td>\n",
       "    </tr>\n",
       "  </tbody>\n",
       "</table>\n",
       "</div>"
      ],
      "text/plain": [
       "   Do Not Email  TotalVisits  Total Time Spent on Website  \\\n",
       "0             0          0.0                            0   \n",
       "1             0          5.0                          674   \n",
       "2             0          2.0                         1532   \n",
       "3             0          1.0                          305   \n",
       "4             0          2.0                         1428   \n",
       "\n",
       "   Page Views Per Visit  A free copy of Mastering The Interview  \\\n",
       "0                   0.0                                       0   \n",
       "1                   2.5                                       0   \n",
       "2                   2.0                                       1   \n",
       "3                   1.0                                       0   \n",
       "4                   1.0                                       0   \n",
       "\n",
       "   Lead Origin_Landing Page Submission  Lead Origin_Lead Add Form  \\\n",
       "0                                    0                          0   \n",
       "1                                    0                          0   \n",
       "2                                    1                          0   \n",
       "3                                    1                          0   \n",
       "4                                    1                          0   \n",
       "\n",
       "   Lead Origin_Lead Import  Lead Source_Google  Lead Source_Olark Chat  \\\n",
       "0                        0                   0                       1   \n",
       "1                        0                   0                       0   \n",
       "2                        0                   0                       0   \n",
       "3                        0                   0                       0   \n",
       "4                        0                   1                       0   \n",
       "\n",
       "   Lead Source_Organic Search  Lead Source_Others  Lead Source_Reference  \\\n",
       "0                           0                   0                      0   \n",
       "1                           1                   0                      0   \n",
       "2                           0                   0                      0   \n",
       "3                           0                   0                      0   \n",
       "4                           0                   0                      0   \n",
       "\n",
       "   Lead Source_Social Media  Lead Source_Welingak Website  \\\n",
       "0                         0                             0   \n",
       "1                         0                             0   \n",
       "2                         0                             0   \n",
       "3                         0                             0   \n",
       "4                         0                             0   \n",
       "\n",
       "   Specialization_Business  Specialization_Business Administration  \\\n",
       "0                        0                                       0   \n",
       "1                        0                                       0   \n",
       "2                        0                                       1   \n",
       "3                        0                                       0   \n",
       "4                        0                                       0   \n",
       "\n",
       "   Specialization_E-COMMERCE  Specialization_Management_Related  \\\n",
       "0                          0                                  0   \n",
       "1                          0                                  0   \n",
       "2                          0                                  0   \n",
       "3                          0                                  0   \n",
       "4                          0                                  0   \n",
       "\n",
       "   Specialization_Media and Advertising  \\\n",
       "0                                     0   \n",
       "1                                     0   \n",
       "2                                     0   \n",
       "3                                     1   \n",
       "4                                     0   \n",
       "\n",
       "   Specialization_Rural and Agribusiness  Specialization_Services Excellence  \\\n",
       "0                                      0                                   0   \n",
       "1                                      0                                   0   \n",
       "2                                      0                                   0   \n",
       "3                                      0                                   0   \n",
       "4                                      0                                   0   \n",
       "\n",
       "   Specialization_Travel and Tourism  Specialization_not provided  \\\n",
       "0                                  0                            1   \n",
       "1                                  0                            1   \n",
       "2                                  0                            0   \n",
       "3                                  0                            0   \n",
       "4                                  0                            1   \n",
       "\n",
       "   What is your current occupation_Housewife  \\\n",
       "0                                          0   \n",
       "1                                          0   \n",
       "2                                          0   \n",
       "3                                          0   \n",
       "4                                          0   \n",
       "\n",
       "   What is your current occupation_Other  \\\n",
       "0                                      0   \n",
       "1                                      0   \n",
       "2                                      0   \n",
       "3                                      0   \n",
       "4                                      0   \n",
       "\n",
       "   What is your current occupation_Student  \\\n",
       "0                                        0   \n",
       "1                                        0   \n",
       "2                                        1   \n",
       "3                                        0   \n",
       "4                                        0   \n",
       "\n",
       "   What is your current occupation_Unemployed  \\\n",
       "0                                           1   \n",
       "1                                           1   \n",
       "2                                           0   \n",
       "3                                           1   \n",
       "4                                           1   \n",
       "\n",
       "   What is your current occupation_Working Professional  \\\n",
       "0                                                  0      \n",
       "1                                                  0      \n",
       "2                                                  0      \n",
       "3                                                  0      \n",
       "4                                                  0      \n",
       "\n",
       "   What is your current occupation_not provided  \n",
       "0                                             0  \n",
       "1                                             0  \n",
       "2                                             0  \n",
       "3                                             0  \n",
       "4                                             0  "
      ]
     },
     "execution_count": 893,
     "metadata": {},
     "output_type": "execute_result"
    }
   ],
   "source": [
    "X.head()"
   ]
  },
  {
   "cell_type": "code",
   "execution_count": 894,
   "id": "7b37caf7",
   "metadata": {},
   "outputs": [
    {
     "data": {
      "text/plain": [
       "0    0\n",
       "1    0\n",
       "2    1\n",
       "3    0\n",
       "4    1\n",
       "Name: Converted, dtype: int64"
      ]
     },
     "execution_count": 894,
     "metadata": {},
     "output_type": "execute_result"
    }
   ],
   "source": [
    "Y.head()"
   ]
  },
  {
   "cell_type": "code",
   "execution_count": 895,
   "id": "860bb04b",
   "metadata": {},
   "outputs": [],
   "source": [
    "# Splitting the data into train and test\n",
    "from sklearn.model_selection import train_test_split\n",
    "X_train, X_test, Y_train, Y_test = train_test_split(X, Y, train_size=0.7, test_size=0.3, random_state=100)"
   ]
  },
  {
   "cell_type": "code",
   "execution_count": 896,
   "id": "e5e51942",
   "metadata": {},
   "outputs": [
    {
     "data": {
      "text/plain": [
       "Index(['Do Not Email', 'TotalVisits', 'Total Time Spent on Website',\n",
       "       'Page Views Per Visit', 'A free copy of Mastering The Interview',\n",
       "       'Lead Origin_Landing Page Submission', 'Lead Origin_Lead Add Form',\n",
       "       'Lead Origin_Lead Import', 'Lead Source_Google',\n",
       "       'Lead Source_Olark Chat', 'Lead Source_Organic Search',\n",
       "       'Lead Source_Others', 'Lead Source_Reference',\n",
       "       'Lead Source_Social Media', 'Lead Source_Welingak Website',\n",
       "       'Specialization_Business', 'Specialization_Business Administration',\n",
       "       'Specialization_E-COMMERCE', 'Specialization_Management_Related',\n",
       "       'Specialization_Media and Advertising',\n",
       "       'Specialization_Rural and Agribusiness',\n",
       "       'Specialization_Services Excellence',\n",
       "       'Specialization_Travel and Tourism', 'Specialization_not provided',\n",
       "       'What is your current occupation_Housewife',\n",
       "       'What is your current occupation_Other',\n",
       "       'What is your current occupation_Student',\n",
       "       'What is your current occupation_Unemployed',\n",
       "       'What is your current occupation_Working Professional',\n",
       "       'What is your current occupation_not provided'],\n",
       "      dtype='object')"
      ]
     },
     "execution_count": 896,
     "metadata": {},
     "output_type": "execute_result"
    }
   ],
   "source": [
    "scaler = StandardScaler()\n",
    "X_train[['TotalVisits','Total Time Spent on Website','Page Views Per Visit']] = scaler.fit_transform(\n",
    "    X_train[['TotalVisits','Total Time Spent on Website','Page Views Per Visit']])\n",
    "\n",
    "X_train.columns"
   ]
  },
  {
   "cell_type": "code",
   "execution_count": 897,
   "id": "acab6a01",
   "metadata": {},
   "outputs": [],
   "source": [
    "from sklearn.linear_model import LogisticRegression\n",
    "lr = LogisticRegression()\n",
    "from sklearn.feature_selection import RFE\n",
    "rfe = RFE(lr, n_features_to_select = 15)\n",
    "rfe = rfe.fit(X_train, Y_train)"
   ]
  },
  {
   "cell_type": "code",
   "execution_count": 898,
   "id": "8551310f",
   "metadata": {},
   "outputs": [
    {
     "name": "stdout",
     "output_type": "stream",
     "text": [
      "[('Do Not Email', True, 1), ('TotalVisits', False, 13), ('Total Time Spent on Website', True, 1), ('Page Views Per Visit', False, 14), ('A free copy of Mastering The Interview', True, 1), ('Lead Origin_Landing Page Submission', True, 1), ('Lead Origin_Lead Add Form', True, 1), ('Lead Origin_Lead Import', True, 1), ('Lead Source_Google', False, 9), ('Lead Source_Olark Chat', True, 1), ('Lead Source_Organic Search', False, 8), ('Lead Source_Others', True, 1), ('Lead Source_Reference', False, 12), ('Lead Source_Social Media', False, 10), ('Lead Source_Welingak Website', True, 1), ('Specialization_Business', False, 11), ('Specialization_Business Administration', False, 6), ('Specialization_E-COMMERCE', False, 15), ('Specialization_Management_Related', False, 5), ('Specialization_Media and Advertising', False, 4), ('Specialization_Rural and Agribusiness', False, 16), ('Specialization_Services Excellence', False, 2), ('Specialization_Travel and Tourism', False, 3), ('Specialization_not provided', True, 1), ('What is your current occupation_Housewife', True, 1), ('What is your current occupation_Other', True, 1), ('What is your current occupation_Student', True, 1), ('What is your current occupation_Unemployed', False, 7), ('What is your current occupation_Working Professional', True, 1), ('What is your current occupation_not provided', True, 1)]\n"
     ]
    },
    {
     "data": {
      "text/plain": [
       "Index(['Do Not Email', 'Total Time Spent on Website',\n",
       "       'A free copy of Mastering The Interview',\n",
       "       'Lead Origin_Landing Page Submission', 'Lead Origin_Lead Add Form',\n",
       "       'Lead Origin_Lead Import', 'Lead Source_Olark Chat',\n",
       "       'Lead Source_Others', 'Lead Source_Welingak Website',\n",
       "       'Specialization_not provided',\n",
       "       'What is your current occupation_Housewife',\n",
       "       'What is your current occupation_Other',\n",
       "       'What is your current occupation_Student',\n",
       "       'What is your current occupation_Working Professional',\n",
       "       'What is your current occupation_not provided'],\n",
       "      dtype='object')"
      ]
     },
     "execution_count": 898,
     "metadata": {},
     "output_type": "execute_result"
    }
   ],
   "source": [
    "Zipped_data = zip(X_train.columns, rfe.support_, rfe.ranking_)\n",
    "Zipped_data = list(Zipped_data)\n",
    "print(Zipped_data)\n",
    "rfe_support_col = X_train.columns[rfe.support_]\n",
    "rfe_support_col"
   ]
  },
  {
   "cell_type": "code",
   "execution_count": 899,
   "id": "b27cbee0",
   "metadata": {},
   "outputs": [
    {
     "data": {
      "text/html": [
       "<table class=\"simpletable\">\n",
       "<caption>Generalized Linear Model Regression Results</caption>\n",
       "<tr>\n",
       "  <th>Dep. Variable:</th>       <td>Converted</td>    <th>  No. Observations:  </th>  <td>  6267</td> \n",
       "</tr>\n",
       "<tr>\n",
       "  <th>Model:</th>                  <td>GLM</td>       <th>  Df Residuals:      </th>  <td>  6251</td> \n",
       "</tr>\n",
       "<tr>\n",
       "  <th>Model Family:</th>        <td>Binomial</td>     <th>  Df Model:          </th>  <td>    15</td> \n",
       "</tr>\n",
       "<tr>\n",
       "  <th>Link Function:</th>         <td>Logit</td>      <th>  Scale:             </th> <td>  1.0000</td>\n",
       "</tr>\n",
       "<tr>\n",
       "  <th>Method:</th>                <td>IRLS</td>       <th>  Log-Likelihood:    </th> <td> -2783.6</td>\n",
       "</tr>\n",
       "<tr>\n",
       "  <th>Date:</th>            <td>Sun, 18 Feb 2024</td> <th>  Deviance:          </th> <td>  5567.2</td>\n",
       "</tr>\n",
       "<tr>\n",
       "  <th>Time:</th>                <td>23:40:52</td>     <th>  Pearson chi2:      </th> <td>6.49e+03</td>\n",
       "</tr>\n",
       "<tr>\n",
       "  <th>No. Iterations:</th>         <td>21</td>        <th>  Pseudo R-squ. (CS):</th>  <td>0.3562</td> \n",
       "</tr>\n",
       "<tr>\n",
       "  <th>Covariance Type:</th>     <td>nonrobust</td>    <th>                     </th>     <td> </td>   \n",
       "</tr>\n",
       "</table>\n",
       "<table class=\"simpletable\">\n",
       "<tr>\n",
       "                            <td></td>                              <th>coef</th>     <th>std err</th>      <th>z</th>      <th>P>|z|</th>  <th>[0.025</th>    <th>0.975]</th>  \n",
       "</tr>\n",
       "<tr>\n",
       "  <th>const</th>                                                <td>    0.0798</td> <td>    0.119</td> <td>    0.668</td> <td> 0.504</td> <td>   -0.154</td> <td>    0.314</td>\n",
       "</tr>\n",
       "<tr>\n",
       "  <th>Do Not Email</th>                                         <td>   -1.2483</td> <td>    0.163</td> <td>   -7.645</td> <td> 0.000</td> <td>   -1.568</td> <td>   -0.928</td>\n",
       "</tr>\n",
       "<tr>\n",
       "  <th>Total Time Spent on Website</th>                          <td>    1.0703</td> <td>    0.039</td> <td>   27.537</td> <td> 0.000</td> <td>    0.994</td> <td>    1.146</td>\n",
       "</tr>\n",
       "<tr>\n",
       "  <th>A free copy of Mastering The Interview</th>               <td>   -0.3188</td> <td>    0.086</td> <td>   -3.700</td> <td> 0.000</td> <td>   -0.488</td> <td>   -0.150</td>\n",
       "</tr>\n",
       "<tr>\n",
       "  <th>Lead Origin_Landing Page Submission</th>                  <td>   -0.6725</td> <td>    0.127</td> <td>   -5.307</td> <td> 0.000</td> <td>   -0.921</td> <td>   -0.424</td>\n",
       "</tr>\n",
       "<tr>\n",
       "  <th>Lead Origin_Lead Add Form</th>                            <td>    3.7440</td> <td>    0.254</td> <td>   14.733</td> <td> 0.000</td> <td>    3.246</td> <td>    4.242</td>\n",
       "</tr>\n",
       "<tr>\n",
       "  <th>Lead Origin_Lead Import</th>                              <td>    0.5906</td> <td>    0.500</td> <td>    1.182</td> <td> 0.237</td> <td>   -0.389</td> <td>    1.570</td>\n",
       "</tr>\n",
       "<tr>\n",
       "  <th>Lead Source_Olark Chat</th>                               <td>    0.9211</td> <td>    0.114</td> <td>    8.051</td> <td> 0.000</td> <td>    0.697</td> <td>    1.145</td>\n",
       "</tr>\n",
       "<tr>\n",
       "  <th>Lead Source_Others</th>                                   <td>    0.6158</td> <td>    0.736</td> <td>    0.837</td> <td> 0.403</td> <td>   -0.826</td> <td>    2.058</td>\n",
       "</tr>\n",
       "<tr>\n",
       "  <th>Lead Source_Welingak Website</th>                         <td>    2.6326</td> <td>    1.035</td> <td>    2.543</td> <td> 0.011</td> <td>    0.603</td> <td>    4.662</td>\n",
       "</tr>\n",
       "<tr>\n",
       "  <th>Specialization_not provided</th>                          <td>   -0.9225</td> <td>    0.120</td> <td>   -7.705</td> <td> 0.000</td> <td>   -1.157</td> <td>   -0.688</td>\n",
       "</tr>\n",
       "<tr>\n",
       "  <th>What is your current occupation_Housewife</th>            <td>   22.5425</td> <td> 1.75e+04</td> <td>    0.001</td> <td> 0.999</td> <td>-3.42e+04</td> <td> 3.42e+04</td>\n",
       "</tr>\n",
       "<tr>\n",
       "  <th>What is your current occupation_Other</th>                <td>   -0.9098</td> <td>    0.727</td> <td>   -1.252</td> <td> 0.210</td> <td>   -2.334</td> <td>    0.514</td>\n",
       "</tr>\n",
       "<tr>\n",
       "  <th>What is your current occupation_Student</th>              <td>   -0.3428</td> <td>    0.225</td> <td>   -1.524</td> <td> 0.127</td> <td>   -0.784</td> <td>    0.098</td>\n",
       "</tr>\n",
       "<tr>\n",
       "  <th>What is your current occupation_Working Professional</th> <td>    2.3962</td> <td>    0.193</td> <td>   12.429</td> <td> 0.000</td> <td>    2.018</td> <td>    2.774</td>\n",
       "</tr>\n",
       "<tr>\n",
       "  <th>What is your current occupation_not provided</th>         <td>   -1.2758</td> <td>    0.085</td> <td>  -15.069</td> <td> 0.000</td> <td>   -1.442</td> <td>   -1.110</td>\n",
       "</tr>\n",
       "</table>"
      ],
      "text/latex": [
       "\\begin{center}\n",
       "\\begin{tabular}{lclc}\n",
       "\\toprule\n",
       "\\textbf{Dep. Variable:}                                        &    Converted     & \\textbf{  No. Observations:  } &     6267    \\\\\n",
       "\\textbf{Model:}                                                &       GLM        & \\textbf{  Df Residuals:      } &     6251    \\\\\n",
       "\\textbf{Model Family:}                                         &     Binomial     & \\textbf{  Df Model:          } &       15    \\\\\n",
       "\\textbf{Link Function:}                                        &      Logit       & \\textbf{  Scale:             } &    1.0000   \\\\\n",
       "\\textbf{Method:}                                               &       IRLS       & \\textbf{  Log-Likelihood:    } &   -2783.6   \\\\\n",
       "\\textbf{Date:}                                                 & Sun, 18 Feb 2024 & \\textbf{  Deviance:          } &    5567.2   \\\\\n",
       "\\textbf{Time:}                                                 &     23:40:52     & \\textbf{  Pearson chi2:      } &  6.49e+03   \\\\\n",
       "\\textbf{No. Iterations:}                                       &        21        & \\textbf{  Pseudo R-squ. (CS):} &   0.3562    \\\\\n",
       "\\textbf{Covariance Type:}                                      &    nonrobust     & \\textbf{                     } &             \\\\\n",
       "\\bottomrule\n",
       "\\end{tabular}\n",
       "\\begin{tabular}{lcccccc}\n",
       "                                                               & \\textbf{coef} & \\textbf{std err} & \\textbf{z} & \\textbf{P$> |$z$|$} & \\textbf{[0.025} & \\textbf{0.975]}  \\\\\n",
       "\\midrule\n",
       "\\textbf{const}                                                 &       0.0798  &        0.119     &     0.668  &         0.504        &       -0.154    &        0.314     \\\\\n",
       "\\textbf{Do Not Email}                                          &      -1.2483  &        0.163     &    -7.645  &         0.000        &       -1.568    &       -0.928     \\\\\n",
       "\\textbf{Total Time Spent on Website}                           &       1.0703  &        0.039     &    27.537  &         0.000        &        0.994    &        1.146     \\\\\n",
       "\\textbf{A free copy of Mastering The Interview}                &      -0.3188  &        0.086     &    -3.700  &         0.000        &       -0.488    &       -0.150     \\\\\n",
       "\\textbf{Lead Origin\\_Landing Page Submission}                  &      -0.6725  &        0.127     &    -5.307  &         0.000        &       -0.921    &       -0.424     \\\\\n",
       "\\textbf{Lead Origin\\_Lead Add Form}                            &       3.7440  &        0.254     &    14.733  &         0.000        &        3.246    &        4.242     \\\\\n",
       "\\textbf{Lead Origin\\_Lead Import}                              &       0.5906  &        0.500     &     1.182  &         0.237        &       -0.389    &        1.570     \\\\\n",
       "\\textbf{Lead Source\\_Olark Chat}                               &       0.9211  &        0.114     &     8.051  &         0.000        &        0.697    &        1.145     \\\\\n",
       "\\textbf{Lead Source\\_Others}                                   &       0.6158  &        0.736     &     0.837  &         0.403        &       -0.826    &        2.058     \\\\\n",
       "\\textbf{Lead Source\\_Welingak Website}                         &       2.6326  &        1.035     &     2.543  &         0.011        &        0.603    &        4.662     \\\\\n",
       "\\textbf{Specialization\\_not provided}                          &      -0.9225  &        0.120     &    -7.705  &         0.000        &       -1.157    &       -0.688     \\\\\n",
       "\\textbf{What is your current occupation\\_Housewife}            &      22.5425  &     1.75e+04     &     0.001  &         0.999        &    -3.42e+04    &     3.42e+04     \\\\\n",
       "\\textbf{What is your current occupation\\_Other}                &      -0.9098  &        0.727     &    -1.252  &         0.210        &       -2.334    &        0.514     \\\\\n",
       "\\textbf{What is your current occupation\\_Student}              &      -0.3428  &        0.225     &    -1.524  &         0.127        &       -0.784    &        0.098     \\\\\n",
       "\\textbf{What is your current occupation\\_Working Professional} &       2.3962  &        0.193     &    12.429  &         0.000        &        2.018    &        2.774     \\\\\n",
       "\\textbf{What is your current occupation\\_not provided}         &      -1.2758  &        0.085     &   -15.069  &         0.000        &       -1.442    &       -1.110     \\\\\n",
       "\\bottomrule\n",
       "\\end{tabular}\n",
       "%\\caption{Generalized Linear Model Regression Results}\n",
       "\\end{center}"
      ],
      "text/plain": [
       "<class 'statsmodels.iolib.summary.Summary'>\n",
       "\"\"\"\n",
       "                 Generalized Linear Model Regression Results                  \n",
       "==============================================================================\n",
       "Dep. Variable:              Converted   No. Observations:                 6267\n",
       "Model:                            GLM   Df Residuals:                     6251\n",
       "Model Family:                Binomial   Df Model:                           15\n",
       "Link Function:                  Logit   Scale:                          1.0000\n",
       "Method:                          IRLS   Log-Likelihood:                -2783.6\n",
       "Date:                Sun, 18 Feb 2024   Deviance:                       5567.2\n",
       "Time:                        23:40:52   Pearson chi2:                 6.49e+03\n",
       "No. Iterations:                    21   Pseudo R-squ. (CS):             0.3562\n",
       "Covariance Type:            nonrobust                                         \n",
       "========================================================================================================================\n",
       "                                                           coef    std err          z      P>|z|      [0.025      0.975]\n",
       "------------------------------------------------------------------------------------------------------------------------\n",
       "const                                                    0.0798      0.119      0.668      0.504      -0.154       0.314\n",
       "Do Not Email                                            -1.2483      0.163     -7.645      0.000      -1.568      -0.928\n",
       "Total Time Spent on Website                              1.0703      0.039     27.537      0.000       0.994       1.146\n",
       "A free copy of Mastering The Interview                  -0.3188      0.086     -3.700      0.000      -0.488      -0.150\n",
       "Lead Origin_Landing Page Submission                     -0.6725      0.127     -5.307      0.000      -0.921      -0.424\n",
       "Lead Origin_Lead Add Form                                3.7440      0.254     14.733      0.000       3.246       4.242\n",
       "Lead Origin_Lead Import                                  0.5906      0.500      1.182      0.237      -0.389       1.570\n",
       "Lead Source_Olark Chat                                   0.9211      0.114      8.051      0.000       0.697       1.145\n",
       "Lead Source_Others                                       0.6158      0.736      0.837      0.403      -0.826       2.058\n",
       "Lead Source_Welingak Website                             2.6326      1.035      2.543      0.011       0.603       4.662\n",
       "Specialization_not provided                             -0.9225      0.120     -7.705      0.000      -1.157      -0.688\n",
       "What is your current occupation_Housewife               22.5425   1.75e+04      0.001      0.999   -3.42e+04    3.42e+04\n",
       "What is your current occupation_Other                   -0.9098      0.727     -1.252      0.210      -2.334       0.514\n",
       "What is your current occupation_Student                 -0.3428      0.225     -1.524      0.127      -0.784       0.098\n",
       "What is your current occupation_Working Professional     2.3962      0.193     12.429      0.000       2.018       2.774\n",
       "What is your current occupation_not provided            -1.2758      0.085    -15.069      0.000      -1.442      -1.110\n",
       "========================================================================================================================\n",
       "\"\"\""
      ]
     },
     "execution_count": 899,
     "metadata": {},
     "output_type": "execute_result"
    }
   ],
   "source": [
    "import statsmodels.api as sm\n",
    "X_train_sm = sm.add_constant(X_train[rfe_support_col])\n",
    "log_model1 = sm.GLM(Y_train,X_train_sm, family = sm.families.Binomial())\n",
    "res = log_model1.fit()\n",
    "res.summary()"
   ]
  },
  {
   "cell_type": "markdown",
   "id": "61f7f69e",
   "metadata": {},
   "source": [
    "##  Variables with high p-values (typically greater than a chosen significance level, such as 0.05) are considered statistically insignificant. This means that there is not enough evidence to reject the null hypothesis that the coefficient of the variable is zero. In other words, these variables are not significantly associated with the target variable."
   ]
  },
  {
   "cell_type": "code",
   "execution_count": 900,
   "id": "3328d260",
   "metadata": {},
   "outputs": [],
   "source": [
    "highPValue = ['Lead Source_Others','What is your current occupation_Student','What is your current occupation_Housewife','What is your current occupation_Other','Lead Origin_Lead Import']\n",
    "X_train.drop(highPValue,axis = 1, inplace = True)\n",
    "\n"
   ]
  },
  {
   "cell_type": "code",
   "execution_count": 901,
   "id": "26b47063",
   "metadata": {},
   "outputs": [
    {
     "data": {
      "text/html": [
       "<table class=\"simpletable\">\n",
       "<caption>Generalized Linear Model Regression Results</caption>\n",
       "<tr>\n",
       "  <th>Dep. Variable:</th>       <td>Converted</td>    <th>  No. Observations:  </th>  <td>  6267</td> \n",
       "</tr>\n",
       "<tr>\n",
       "  <th>Model:</th>                  <td>GLM</td>       <th>  Df Residuals:      </th>  <td>  6241</td> \n",
       "</tr>\n",
       "<tr>\n",
       "  <th>Model Family:</th>        <td>Binomial</td>     <th>  Df Model:          </th>  <td>    25</td> \n",
       "</tr>\n",
       "<tr>\n",
       "  <th>Link Function:</th>         <td>Logit</td>      <th>  Scale:             </th> <td>  1.0000</td>\n",
       "</tr>\n",
       "<tr>\n",
       "  <th>Method:</th>                <td>IRLS</td>       <th>  Log-Likelihood:    </th> <td> -2772.6</td>\n",
       "</tr>\n",
       "<tr>\n",
       "  <th>Date:</th>            <td>Sun, 18 Feb 2024</td> <th>  Deviance:          </th> <td>  5545.1</td>\n",
       "</tr>\n",
       "<tr>\n",
       "  <th>Time:</th>                <td>23:41:01</td>     <th>  Pearson chi2:      </th> <td>6.46e+03</td>\n",
       "</tr>\n",
       "<tr>\n",
       "  <th>No. Iterations:</th>          <td>7</td>        <th>  Pseudo R-squ. (CS):</th>  <td>0.3584</td> \n",
       "</tr>\n",
       "<tr>\n",
       "  <th>Covariance Type:</th>     <td>nonrobust</td>    <th>                     </th>     <td> </td>   \n",
       "</tr>\n",
       "</table>\n",
       "<table class=\"simpletable\">\n",
       "<tr>\n",
       "                            <td></td>                              <th>coef</th>     <th>std err</th>      <th>z</th>      <th>P>|z|</th>  <th>[0.025</th>    <th>0.975]</th>  \n",
       "</tr>\n",
       "<tr>\n",
       "  <th>const</th>                                                <td>   -0.0713</td> <td>    0.303</td> <td>   -0.235</td> <td> 0.814</td> <td>   -0.666</td> <td>    0.523</td>\n",
       "</tr>\n",
       "<tr>\n",
       "  <th>Do Not Email</th>                                         <td>   -1.2225</td> <td>    0.166</td> <td>   -7.364</td> <td> 0.000</td> <td>   -1.548</td> <td>   -0.897</td>\n",
       "</tr>\n",
       "<tr>\n",
       "  <th>TotalVisits</th>                                          <td>    0.1825</td> <td>    0.048</td> <td>    3.799</td> <td> 0.000</td> <td>    0.088</td> <td>    0.277</td>\n",
       "</tr>\n",
       "<tr>\n",
       "  <th>Total Time Spent on Website</th>                          <td>    1.0589</td> <td>    0.039</td> <td>   27.119</td> <td> 0.000</td> <td>    0.982</td> <td>    1.135</td>\n",
       "</tr>\n",
       "<tr>\n",
       "  <th>Page Views Per Visit</th>                                 <td>   -0.1135</td> <td>    0.055</td> <td>   -2.070</td> <td> 0.038</td> <td>   -0.221</td> <td>   -0.006</td>\n",
       "</tr>\n",
       "<tr>\n",
       "  <th>A free copy of Mastering The Interview</th>               <td>   -0.2496</td> <td>    0.106</td> <td>   -2.357</td> <td> 0.018</td> <td>   -0.457</td> <td>   -0.042</td>\n",
       "</tr>\n",
       "<tr>\n",
       "  <th>Lead Origin_Landing Page Submission</th>                  <td>   -0.6021</td> <td>    0.131</td> <td>   -4.597</td> <td> 0.000</td> <td>   -0.859</td> <td>   -0.345</td>\n",
       "</tr>\n",
       "<tr>\n",
       "  <th>Lead Origin_Lead Add Form</th>                            <td>    4.2770</td> <td>    0.362</td> <td>   11.810</td> <td> 0.000</td> <td>    3.567</td> <td>    4.987</td>\n",
       "</tr>\n",
       "<tr>\n",
       "  <th>Lead Source_Google</th>                                   <td>    0.1921</td> <td>    0.111</td> <td>    1.732</td> <td> 0.083</td> <td>   -0.025</td> <td>    0.409</td>\n",
       "</tr>\n",
       "<tr>\n",
       "  <th>Lead Source_Olark Chat</th>                               <td>    1.1457</td> <td>    0.155</td> <td>    7.408</td> <td> 0.000</td> <td>    0.843</td> <td>    1.449</td>\n",
       "</tr>\n",
       "<tr>\n",
       "  <th>Lead Source_Organic Search</th>                           <td>    0.2296</td> <td>    0.126</td> <td>    1.818</td> <td> 0.069</td> <td>   -0.018</td> <td>    0.477</td>\n",
       "</tr>\n",
       "<tr>\n",
       "  <th>Lead Source_Reference</th>                                <td>   -0.3507</td> <td>    0.308</td> <td>   -1.137</td> <td> 0.256</td> <td>   -0.955</td> <td>    0.254</td>\n",
       "</tr>\n",
       "<tr>\n",
       "  <th>Lead Source_Social Media</th>                             <td>    0.7368</td> <td>    0.497</td> <td>    1.483</td> <td> 0.138</td> <td>   -0.237</td> <td>    1.711</td>\n",
       "</tr>\n",
       "<tr>\n",
       "  <th>Lead Source_Welingak Website</th>                         <td>    2.3276</td> <td>    1.071</td> <td>    2.174</td> <td> 0.030</td> <td>    0.229</td> <td>    4.426</td>\n",
       "</tr>\n",
       "<tr>\n",
       "  <th>Specialization_Business</th>                              <td>   -0.2933</td> <td>    0.260</td> <td>   -1.127</td> <td> 0.260</td> <td>   -0.803</td> <td>    0.217</td>\n",
       "</tr>\n",
       "<tr>\n",
       "  <th>Specialization_Business Administration</th>               <td>   -0.4190</td> <td>    0.238</td> <td>   -1.758</td> <td> 0.079</td> <td>   -0.886</td> <td>    0.048</td>\n",
       "</tr>\n",
       "<tr>\n",
       "  <th>Specialization_E-COMMERCE</th>                            <td>   -0.1980</td> <td>    0.336</td> <td>   -0.590</td> <td> 0.555</td> <td>   -0.856</td> <td>    0.460</td>\n",
       "</tr>\n",
       "<tr>\n",
       "  <th>Specialization_Management_Related</th>                    <td>   -0.4067</td> <td>    0.179</td> <td>   -2.276</td> <td> 0.023</td> <td>   -0.757</td> <td>   -0.056</td>\n",
       "</tr>\n",
       "<tr>\n",
       "  <th>Specialization_Media and Advertising</th>                 <td>   -0.4700</td> <td>    0.273</td> <td>   -1.720</td> <td> 0.085</td> <td>   -1.006</td> <td>    0.066</td>\n",
       "</tr>\n",
       "<tr>\n",
       "  <th>Specialization_Rural and Agribusiness</th>                <td>   -0.1151</td> <td>    0.398</td> <td>   -0.289</td> <td> 0.772</td> <td>   -0.895</td> <td>    0.665</td>\n",
       "</tr>\n",
       "<tr>\n",
       "  <th>Specialization_Services Excellence</th>                   <td>   -0.7124</td> <td>    0.679</td> <td>   -1.050</td> <td> 0.294</td> <td>   -2.043</td> <td>    0.618</td>\n",
       "</tr>\n",
       "<tr>\n",
       "  <th>Specialization_Travel and Tourism</th>                    <td>   -0.6199</td> <td>    0.297</td> <td>   -2.087</td> <td> 0.037</td> <td>   -1.202</td> <td>   -0.038</td>\n",
       "</tr>\n",
       "<tr>\n",
       "  <th>Specialization_not provided</th>                          <td>   -1.2564</td> <td>    0.207</td> <td>   -6.064</td> <td> 0.000</td> <td>   -1.663</td> <td>   -0.850</td>\n",
       "</tr>\n",
       "<tr>\n",
       "  <th>What is your current occupation_Unemployed</th>           <td>    0.3062</td> <td>    0.210</td> <td>    1.460</td> <td> 0.144</td> <td>   -0.105</td> <td>    0.717</td>\n",
       "</tr>\n",
       "<tr>\n",
       "  <th>What is your current occupation_Working Professional</th> <td>    2.7356</td> <td>    0.280</td> <td>    9.770</td> <td> 0.000</td> <td>    2.187</td> <td>    3.284</td>\n",
       "</tr>\n",
       "<tr>\n",
       "  <th>What is your current occupation_not provided</th>         <td>   -0.9785</td> <td>    0.219</td> <td>   -4.469</td> <td> 0.000</td> <td>   -1.408</td> <td>   -0.549</td>\n",
       "</tr>\n",
       "</table>"
      ],
      "text/latex": [
       "\\begin{center}\n",
       "\\begin{tabular}{lclc}\n",
       "\\toprule\n",
       "\\textbf{Dep. Variable:}                                        &    Converted     & \\textbf{  No. Observations:  } &     6267    \\\\\n",
       "\\textbf{Model:}                                                &       GLM        & \\textbf{  Df Residuals:      } &     6241    \\\\\n",
       "\\textbf{Model Family:}                                         &     Binomial     & \\textbf{  Df Model:          } &       25    \\\\\n",
       "\\textbf{Link Function:}                                        &      Logit       & \\textbf{  Scale:             } &    1.0000   \\\\\n",
       "\\textbf{Method:}                                               &       IRLS       & \\textbf{  Log-Likelihood:    } &   -2772.6   \\\\\n",
       "\\textbf{Date:}                                                 & Sun, 18 Feb 2024 & \\textbf{  Deviance:          } &    5545.1   \\\\\n",
       "\\textbf{Time:}                                                 &     23:41:01     & \\textbf{  Pearson chi2:      } &  6.46e+03   \\\\\n",
       "\\textbf{No. Iterations:}                                       &        7         & \\textbf{  Pseudo R-squ. (CS):} &   0.3584    \\\\\n",
       "\\textbf{Covariance Type:}                                      &    nonrobust     & \\textbf{                     } &             \\\\\n",
       "\\bottomrule\n",
       "\\end{tabular}\n",
       "\\begin{tabular}{lcccccc}\n",
       "                                                               & \\textbf{coef} & \\textbf{std err} & \\textbf{z} & \\textbf{P$> |$z$|$} & \\textbf{[0.025} & \\textbf{0.975]}  \\\\\n",
       "\\midrule\n",
       "\\textbf{const}                                                 &      -0.0713  &        0.303     &    -0.235  &         0.814        &       -0.666    &        0.523     \\\\\n",
       "\\textbf{Do Not Email}                                          &      -1.2225  &        0.166     &    -7.364  &         0.000        &       -1.548    &       -0.897     \\\\\n",
       "\\textbf{TotalVisits}                                           &       0.1825  &        0.048     &     3.799  &         0.000        &        0.088    &        0.277     \\\\\n",
       "\\textbf{Total Time Spent on Website}                           &       1.0589  &        0.039     &    27.119  &         0.000        &        0.982    &        1.135     \\\\\n",
       "\\textbf{Page Views Per Visit}                                  &      -0.1135  &        0.055     &    -2.070  &         0.038        &       -0.221    &       -0.006     \\\\\n",
       "\\textbf{A free copy of Mastering The Interview}                &      -0.2496  &        0.106     &    -2.357  &         0.018        &       -0.457    &       -0.042     \\\\\n",
       "\\textbf{Lead Origin\\_Landing Page Submission}                  &      -0.6021  &        0.131     &    -4.597  &         0.000        &       -0.859    &       -0.345     \\\\\n",
       "\\textbf{Lead Origin\\_Lead Add Form}                            &       4.2770  &        0.362     &    11.810  &         0.000        &        3.567    &        4.987     \\\\\n",
       "\\textbf{Lead Source\\_Google}                                   &       0.1921  &        0.111     &     1.732  &         0.083        &       -0.025    &        0.409     \\\\\n",
       "\\textbf{Lead Source\\_Olark Chat}                               &       1.1457  &        0.155     &     7.408  &         0.000        &        0.843    &        1.449     \\\\\n",
       "\\textbf{Lead Source\\_Organic Search}                           &       0.2296  &        0.126     &     1.818  &         0.069        &       -0.018    &        0.477     \\\\\n",
       "\\textbf{Lead Source\\_Reference}                                &      -0.3507  &        0.308     &    -1.137  &         0.256        &       -0.955    &        0.254     \\\\\n",
       "\\textbf{Lead Source\\_Social Media}                             &       0.7368  &        0.497     &     1.483  &         0.138        &       -0.237    &        1.711     \\\\\n",
       "\\textbf{Lead Source\\_Welingak Website}                         &       2.3276  &        1.071     &     2.174  &         0.030        &        0.229    &        4.426     \\\\\n",
       "\\textbf{Specialization\\_Business}                              &      -0.2933  &        0.260     &    -1.127  &         0.260        &       -0.803    &        0.217     \\\\\n",
       "\\textbf{Specialization\\_Business Administration}               &      -0.4190  &        0.238     &    -1.758  &         0.079        &       -0.886    &        0.048     \\\\\n",
       "\\textbf{Specialization\\_E-COMMERCE}                            &      -0.1980  &        0.336     &    -0.590  &         0.555        &       -0.856    &        0.460     \\\\\n",
       "\\textbf{Specialization\\_Management\\_Related}                   &      -0.4067  &        0.179     &    -2.276  &         0.023        &       -0.757    &       -0.056     \\\\\n",
       "\\textbf{Specialization\\_Media and Advertising}                 &      -0.4700  &        0.273     &    -1.720  &         0.085        &       -1.006    &        0.066     \\\\\n",
       "\\textbf{Specialization\\_Rural and Agribusiness}                &      -0.1151  &        0.398     &    -0.289  &         0.772        &       -0.895    &        0.665     \\\\\n",
       "\\textbf{Specialization\\_Services Excellence}                   &      -0.7124  &        0.679     &    -1.050  &         0.294        &       -2.043    &        0.618     \\\\\n",
       "\\textbf{Specialization\\_Travel and Tourism}                    &      -0.6199  &        0.297     &    -2.087  &         0.037        &       -1.202    &       -0.038     \\\\\n",
       "\\textbf{Specialization\\_not provided}                          &      -1.2564  &        0.207     &    -6.064  &         0.000        &       -1.663    &       -0.850     \\\\\n",
       "\\textbf{What is your current occupation\\_Unemployed}           &       0.3062  &        0.210     &     1.460  &         0.144        &       -0.105    &        0.717     \\\\\n",
       "\\textbf{What is your current occupation\\_Working Professional} &       2.7356  &        0.280     &     9.770  &         0.000        &        2.187    &        3.284     \\\\\n",
       "\\textbf{What is your current occupation\\_not provided}         &      -0.9785  &        0.219     &    -4.469  &         0.000        &       -1.408    &       -0.549     \\\\\n",
       "\\bottomrule\n",
       "\\end{tabular}\n",
       "%\\caption{Generalized Linear Model Regression Results}\n",
       "\\end{center}"
      ],
      "text/plain": [
       "<class 'statsmodels.iolib.summary.Summary'>\n",
       "\"\"\"\n",
       "                 Generalized Linear Model Regression Results                  \n",
       "==============================================================================\n",
       "Dep. Variable:              Converted   No. Observations:                 6267\n",
       "Model:                            GLM   Df Residuals:                     6241\n",
       "Model Family:                Binomial   Df Model:                           25\n",
       "Link Function:                  Logit   Scale:                          1.0000\n",
       "Method:                          IRLS   Log-Likelihood:                -2772.6\n",
       "Date:                Sun, 18 Feb 2024   Deviance:                       5545.1\n",
       "Time:                        23:41:01   Pearson chi2:                 6.46e+03\n",
       "No. Iterations:                     7   Pseudo R-squ. (CS):             0.3584\n",
       "Covariance Type:            nonrobust                                         \n",
       "========================================================================================================================\n",
       "                                                           coef    std err          z      P>|z|      [0.025      0.975]\n",
       "------------------------------------------------------------------------------------------------------------------------\n",
       "const                                                   -0.0713      0.303     -0.235      0.814      -0.666       0.523\n",
       "Do Not Email                                            -1.2225      0.166     -7.364      0.000      -1.548      -0.897\n",
       "TotalVisits                                              0.1825      0.048      3.799      0.000       0.088       0.277\n",
       "Total Time Spent on Website                              1.0589      0.039     27.119      0.000       0.982       1.135\n",
       "Page Views Per Visit                                    -0.1135      0.055     -2.070      0.038      -0.221      -0.006\n",
       "A free copy of Mastering The Interview                  -0.2496      0.106     -2.357      0.018      -0.457      -0.042\n",
       "Lead Origin_Landing Page Submission                     -0.6021      0.131     -4.597      0.000      -0.859      -0.345\n",
       "Lead Origin_Lead Add Form                                4.2770      0.362     11.810      0.000       3.567       4.987\n",
       "Lead Source_Google                                       0.1921      0.111      1.732      0.083      -0.025       0.409\n",
       "Lead Source_Olark Chat                                   1.1457      0.155      7.408      0.000       0.843       1.449\n",
       "Lead Source_Organic Search                               0.2296      0.126      1.818      0.069      -0.018       0.477\n",
       "Lead Source_Reference                                   -0.3507      0.308     -1.137      0.256      -0.955       0.254\n",
       "Lead Source_Social Media                                 0.7368      0.497      1.483      0.138      -0.237       1.711\n",
       "Lead Source_Welingak Website                             2.3276      1.071      2.174      0.030       0.229       4.426\n",
       "Specialization_Business                                 -0.2933      0.260     -1.127      0.260      -0.803       0.217\n",
       "Specialization_Business Administration                  -0.4190      0.238     -1.758      0.079      -0.886       0.048\n",
       "Specialization_E-COMMERCE                               -0.1980      0.336     -0.590      0.555      -0.856       0.460\n",
       "Specialization_Management_Related                       -0.4067      0.179     -2.276      0.023      -0.757      -0.056\n",
       "Specialization_Media and Advertising                    -0.4700      0.273     -1.720      0.085      -1.006       0.066\n",
       "Specialization_Rural and Agribusiness                   -0.1151      0.398     -0.289      0.772      -0.895       0.665\n",
       "Specialization_Services Excellence                      -0.7124      0.679     -1.050      0.294      -2.043       0.618\n",
       "Specialization_Travel and Tourism                       -0.6199      0.297     -2.087      0.037      -1.202      -0.038\n",
       "Specialization_not provided                             -1.2564      0.207     -6.064      0.000      -1.663      -0.850\n",
       "What is your current occupation_Unemployed               0.3062      0.210      1.460      0.144      -0.105       0.717\n",
       "What is your current occupation_Working Professional     2.7356      0.280      9.770      0.000       2.187       3.284\n",
       "What is your current occupation_not provided            -0.9785      0.219     -4.469      0.000      -1.408      -0.549\n",
       "========================================================================================================================\n",
       "\"\"\""
      ]
     },
     "execution_count": 901,
     "metadata": {},
     "output_type": "execute_result"
    }
   ],
   "source": [
    "X_train_sm = sm.add_constant(X_train)\n",
    "logm3 = sm.GLM(Y_train, X_train_sm, family = sm.families.Binomial())\n",
    "res = logm3.fit()\n",
    "res.summary()"
   ]
  },
  {
   "cell_type": "code",
   "execution_count": 902,
   "id": "6bb178c1",
   "metadata": {},
   "outputs": [],
   "source": [
    "highPValue = ['Lead Source_Google','Lead Source_Reference','Specialization_Business','Specialization_E-COMMERCE',\n",
    "             'Specialization_Rural and Agribusiness','Specialization_Services Excellence']\n",
    "X_train.drop(highPValue,axis = 1, inplace = True)"
   ]
  },
  {
   "cell_type": "code",
   "execution_count": 903,
   "id": "fbd91685",
   "metadata": {},
   "outputs": [
    {
     "data": {
      "text/html": [
       "<table class=\"simpletable\">\n",
       "<caption>Generalized Linear Model Regression Results</caption>\n",
       "<tr>\n",
       "  <th>Dep. Variable:</th>       <td>Converted</td>    <th>  No. Observations:  </th>  <td>  6267</td> \n",
       "</tr>\n",
       "<tr>\n",
       "  <th>Model:</th>                  <td>GLM</td>       <th>  Df Residuals:      </th>  <td>  6247</td> \n",
       "</tr>\n",
       "<tr>\n",
       "  <th>Model Family:</th>        <td>Binomial</td>     <th>  Df Model:          </th>  <td>    19</td> \n",
       "</tr>\n",
       "<tr>\n",
       "  <th>Link Function:</th>         <td>Logit</td>      <th>  Scale:             </th> <td>  1.0000</td>\n",
       "</tr>\n",
       "<tr>\n",
       "  <th>Method:</th>                <td>IRLS</td>       <th>  Log-Likelihood:    </th> <td> -2776.7</td>\n",
       "</tr>\n",
       "<tr>\n",
       "  <th>Date:</th>            <td>Sun, 18 Feb 2024</td> <th>  Deviance:          </th> <td>  5553.4</td>\n",
       "</tr>\n",
       "<tr>\n",
       "  <th>Time:</th>                <td>23:42:49</td>     <th>  Pearson chi2:      </th> <td>6.48e+03</td>\n",
       "</tr>\n",
       "<tr>\n",
       "  <th>No. Iterations:</th>          <td>7</td>        <th>  Pseudo R-squ. (CS):</th>  <td>0.3576</td> \n",
       "</tr>\n",
       "<tr>\n",
       "  <th>Covariance Type:</th>     <td>nonrobust</td>    <th>                     </th>     <td> </td>   \n",
       "</tr>\n",
       "</table>\n",
       "<table class=\"simpletable\">\n",
       "<tr>\n",
       "                            <td></td>                              <th>coef</th>     <th>std err</th>      <th>z</th>      <th>P>|z|</th>  <th>[0.025</th>    <th>0.975]</th>  \n",
       "</tr>\n",
       "<tr>\n",
       "  <th>const</th>                                                <td>   -0.0885</td> <td>    0.259</td> <td>   -0.342</td> <td> 0.732</td> <td>   -0.595</td> <td>    0.418</td>\n",
       "</tr>\n",
       "<tr>\n",
       "  <th>Do Not Email</th>                                         <td>   -1.2396</td> <td>    0.164</td> <td>   -7.548</td> <td> 0.000</td> <td>   -1.562</td> <td>   -0.918</td>\n",
       "</tr>\n",
       "<tr>\n",
       "  <th>TotalVisits</th>                                          <td>    0.1832</td> <td>    0.048</td> <td>    3.832</td> <td> 0.000</td> <td>    0.090</td> <td>    0.277</td>\n",
       "</tr>\n",
       "<tr>\n",
       "  <th>Total Time Spent on Website</th>                          <td>    1.0619</td> <td>    0.039</td> <td>   27.232</td> <td> 0.000</td> <td>    0.985</td> <td>    1.138</td>\n",
       "</tr>\n",
       "<tr>\n",
       "  <th>Page Views Per Visit</th>                                 <td>   -0.1087</td> <td>    0.055</td> <td>   -1.992</td> <td> 0.046</td> <td>   -0.216</td> <td>   -0.002</td>\n",
       "</tr>\n",
       "<tr>\n",
       "  <th>A free copy of Mastering The Interview</th>               <td>   -0.3589</td> <td>    0.088</td> <td>   -4.090</td> <td> 0.000</td> <td>   -0.531</td> <td>   -0.187</td>\n",
       "</tr>\n",
       "<tr>\n",
       "  <th>Lead Origin_Landing Page Submission</th>                  <td>   -0.6113</td> <td>    0.128</td> <td>   -4.762</td> <td> 0.000</td> <td>   -0.863</td> <td>   -0.360</td>\n",
       "</tr>\n",
       "<tr>\n",
       "  <th>Lead Origin_Lead Add Form</th>                            <td>    3.8826</td> <td>    0.263</td> <td>   14.783</td> <td> 0.000</td> <td>    3.368</td> <td>    4.397</td>\n",
       "</tr>\n",
       "<tr>\n",
       "  <th>Lead Source_Olark Chat</th>                               <td>    1.0315</td> <td>    0.130</td> <td>    7.910</td> <td> 0.000</td> <td>    0.776</td> <td>    1.287</td>\n",
       "</tr>\n",
       "<tr>\n",
       "  <th>Lead Source_Organic Search</th>                           <td>    0.1407</td> <td>    0.108</td> <td>    1.297</td> <td> 0.195</td> <td>   -0.072</td> <td>    0.353</td>\n",
       "</tr>\n",
       "<tr>\n",
       "  <th>Lead Source_Social Media</th>                             <td>    0.6012</td> <td>    0.490</td> <td>    1.226</td> <td> 0.220</td> <td>   -0.360</td> <td>    1.562</td>\n",
       "</tr>\n",
       "<tr>\n",
       "  <th>Lead Source_Welingak Website</th>                         <td>    2.6103</td> <td>    1.035</td> <td>    2.521</td> <td> 0.012</td> <td>    0.581</td> <td>    4.639</td>\n",
       "</tr>\n",
       "<tr>\n",
       "  <th>Specialization_Business Administration</th>               <td>   -0.2581</td> <td>    0.199</td> <td>   -1.300</td> <td> 0.193</td> <td>   -0.647</td> <td>    0.131</td>\n",
       "</tr>\n",
       "<tr>\n",
       "  <th>Specialization_Management_Related</th>                    <td>   -0.2469</td> <td>    0.121</td> <td>   -2.047</td> <td> 0.041</td> <td>   -0.483</td> <td>   -0.010</td>\n",
       "</tr>\n",
       "<tr>\n",
       "  <th>Specialization_Media and Advertising</th>                 <td>   -0.2922</td> <td>    0.239</td> <td>   -1.221</td> <td> 0.222</td> <td>   -0.761</td> <td>    0.177</td>\n",
       "</tr>\n",
       "<tr>\n",
       "  <th>Specialization_Travel and Tourism</th>                    <td>   -0.4512</td> <td>    0.265</td> <td>   -1.701</td> <td> 0.089</td> <td>   -0.971</td> <td>    0.069</td>\n",
       "</tr>\n",
       "<tr>\n",
       "  <th>Specialization_not provided</th>                          <td>   -1.1229</td> <td>    0.159</td> <td>   -7.045</td> <td> 0.000</td> <td>   -1.435</td> <td>   -0.811</td>\n",
       "</tr>\n",
       "<tr>\n",
       "  <th>What is your current occupation_Unemployed</th>           <td>    0.3130</td> <td>    0.210</td> <td>    1.492</td> <td> 0.136</td> <td>   -0.098</td> <td>    0.724</td>\n",
       "</tr>\n",
       "<tr>\n",
       "  <th>What is your current occupation_Working Professional</th> <td>    2.7292</td> <td>    0.280</td> <td>    9.745</td> <td> 0.000</td> <td>    2.180</td> <td>    3.278</td>\n",
       "</tr>\n",
       "<tr>\n",
       "  <th>What is your current occupation_not provided</th>         <td>   -0.9704</td> <td>    0.219</td> <td>   -4.431</td> <td> 0.000</td> <td>   -1.400</td> <td>   -0.541</td>\n",
       "</tr>\n",
       "</table>"
      ],
      "text/latex": [
       "\\begin{center}\n",
       "\\begin{tabular}{lclc}\n",
       "\\toprule\n",
       "\\textbf{Dep. Variable:}                                        &    Converted     & \\textbf{  No. Observations:  } &     6267    \\\\\n",
       "\\textbf{Model:}                                                &       GLM        & \\textbf{  Df Residuals:      } &     6247    \\\\\n",
       "\\textbf{Model Family:}                                         &     Binomial     & \\textbf{  Df Model:          } &       19    \\\\\n",
       "\\textbf{Link Function:}                                        &      Logit       & \\textbf{  Scale:             } &    1.0000   \\\\\n",
       "\\textbf{Method:}                                               &       IRLS       & \\textbf{  Log-Likelihood:    } &   -2776.7   \\\\\n",
       "\\textbf{Date:}                                                 & Sun, 18 Feb 2024 & \\textbf{  Deviance:          } &    5553.4   \\\\\n",
       "\\textbf{Time:}                                                 &     23:42:49     & \\textbf{  Pearson chi2:      } &  6.48e+03   \\\\\n",
       "\\textbf{No. Iterations:}                                       &        7         & \\textbf{  Pseudo R-squ. (CS):} &   0.3576    \\\\\n",
       "\\textbf{Covariance Type:}                                      &    nonrobust     & \\textbf{                     } &             \\\\\n",
       "\\bottomrule\n",
       "\\end{tabular}\n",
       "\\begin{tabular}{lcccccc}\n",
       "                                                               & \\textbf{coef} & \\textbf{std err} & \\textbf{z} & \\textbf{P$> |$z$|$} & \\textbf{[0.025} & \\textbf{0.975]}  \\\\\n",
       "\\midrule\n",
       "\\textbf{const}                                                 &      -0.0885  &        0.259     &    -0.342  &         0.732        &       -0.595    &        0.418     \\\\\n",
       "\\textbf{Do Not Email}                                          &      -1.2396  &        0.164     &    -7.548  &         0.000        &       -1.562    &       -0.918     \\\\\n",
       "\\textbf{TotalVisits}                                           &       0.1832  &        0.048     &     3.832  &         0.000        &        0.090    &        0.277     \\\\\n",
       "\\textbf{Total Time Spent on Website}                           &       1.0619  &        0.039     &    27.232  &         0.000        &        0.985    &        1.138     \\\\\n",
       "\\textbf{Page Views Per Visit}                                  &      -0.1087  &        0.055     &    -1.992  &         0.046        &       -0.216    &       -0.002     \\\\\n",
       "\\textbf{A free copy of Mastering The Interview}                &      -0.3589  &        0.088     &    -4.090  &         0.000        &       -0.531    &       -0.187     \\\\\n",
       "\\textbf{Lead Origin\\_Landing Page Submission}                  &      -0.6113  &        0.128     &    -4.762  &         0.000        &       -0.863    &       -0.360     \\\\\n",
       "\\textbf{Lead Origin\\_Lead Add Form}                            &       3.8826  &        0.263     &    14.783  &         0.000        &        3.368    &        4.397     \\\\\n",
       "\\textbf{Lead Source\\_Olark Chat}                               &       1.0315  &        0.130     &     7.910  &         0.000        &        0.776    &        1.287     \\\\\n",
       "\\textbf{Lead Source\\_Organic Search}                           &       0.1407  &        0.108     &     1.297  &         0.195        &       -0.072    &        0.353     \\\\\n",
       "\\textbf{Lead Source\\_Social Media}                             &       0.6012  &        0.490     &     1.226  &         0.220        &       -0.360    &        1.562     \\\\\n",
       "\\textbf{Lead Source\\_Welingak Website}                         &       2.6103  &        1.035     &     2.521  &         0.012        &        0.581    &        4.639     \\\\\n",
       "\\textbf{Specialization\\_Business Administration}               &      -0.2581  &        0.199     &    -1.300  &         0.193        &       -0.647    &        0.131     \\\\\n",
       "\\textbf{Specialization\\_Management\\_Related}                   &      -0.2469  &        0.121     &    -2.047  &         0.041        &       -0.483    &       -0.010     \\\\\n",
       "\\textbf{Specialization\\_Media and Advertising}                 &      -0.2922  &        0.239     &    -1.221  &         0.222        &       -0.761    &        0.177     \\\\\n",
       "\\textbf{Specialization\\_Travel and Tourism}                    &      -0.4512  &        0.265     &    -1.701  &         0.089        &       -0.971    &        0.069     \\\\\n",
       "\\textbf{Specialization\\_not provided}                          &      -1.1229  &        0.159     &    -7.045  &         0.000        &       -1.435    &       -0.811     \\\\\n",
       "\\textbf{What is your current occupation\\_Unemployed}           &       0.3130  &        0.210     &     1.492  &         0.136        &       -0.098    &        0.724     \\\\\n",
       "\\textbf{What is your current occupation\\_Working Professional} &       2.7292  &        0.280     &     9.745  &         0.000        &        2.180    &        3.278     \\\\\n",
       "\\textbf{What is your current occupation\\_not provided}         &      -0.9704  &        0.219     &    -4.431  &         0.000        &       -1.400    &       -0.541     \\\\\n",
       "\\bottomrule\n",
       "\\end{tabular}\n",
       "%\\caption{Generalized Linear Model Regression Results}\n",
       "\\end{center}"
      ],
      "text/plain": [
       "<class 'statsmodels.iolib.summary.Summary'>\n",
       "\"\"\"\n",
       "                 Generalized Linear Model Regression Results                  \n",
       "==============================================================================\n",
       "Dep. Variable:              Converted   No. Observations:                 6267\n",
       "Model:                            GLM   Df Residuals:                     6247\n",
       "Model Family:                Binomial   Df Model:                           19\n",
       "Link Function:                  Logit   Scale:                          1.0000\n",
       "Method:                          IRLS   Log-Likelihood:                -2776.7\n",
       "Date:                Sun, 18 Feb 2024   Deviance:                       5553.4\n",
       "Time:                        23:42:49   Pearson chi2:                 6.48e+03\n",
       "No. Iterations:                     7   Pseudo R-squ. (CS):             0.3576\n",
       "Covariance Type:            nonrobust                                         \n",
       "========================================================================================================================\n",
       "                                                           coef    std err          z      P>|z|      [0.025      0.975]\n",
       "------------------------------------------------------------------------------------------------------------------------\n",
       "const                                                   -0.0885      0.259     -0.342      0.732      -0.595       0.418\n",
       "Do Not Email                                            -1.2396      0.164     -7.548      0.000      -1.562      -0.918\n",
       "TotalVisits                                              0.1832      0.048      3.832      0.000       0.090       0.277\n",
       "Total Time Spent on Website                              1.0619      0.039     27.232      0.000       0.985       1.138\n",
       "Page Views Per Visit                                    -0.1087      0.055     -1.992      0.046      -0.216      -0.002\n",
       "A free copy of Mastering The Interview                  -0.3589      0.088     -4.090      0.000      -0.531      -0.187\n",
       "Lead Origin_Landing Page Submission                     -0.6113      0.128     -4.762      0.000      -0.863      -0.360\n",
       "Lead Origin_Lead Add Form                                3.8826      0.263     14.783      0.000       3.368       4.397\n",
       "Lead Source_Olark Chat                                   1.0315      0.130      7.910      0.000       0.776       1.287\n",
       "Lead Source_Organic Search                               0.1407      0.108      1.297      0.195      -0.072       0.353\n",
       "Lead Source_Social Media                                 0.6012      0.490      1.226      0.220      -0.360       1.562\n",
       "Lead Source_Welingak Website                             2.6103      1.035      2.521      0.012       0.581       4.639\n",
       "Specialization_Business Administration                  -0.2581      0.199     -1.300      0.193      -0.647       0.131\n",
       "Specialization_Management_Related                       -0.2469      0.121     -2.047      0.041      -0.483      -0.010\n",
       "Specialization_Media and Advertising                    -0.2922      0.239     -1.221      0.222      -0.761       0.177\n",
       "Specialization_Travel and Tourism                       -0.4512      0.265     -1.701      0.089      -0.971       0.069\n",
       "Specialization_not provided                             -1.1229      0.159     -7.045      0.000      -1.435      -0.811\n",
       "What is your current occupation_Unemployed               0.3130      0.210      1.492      0.136      -0.098       0.724\n",
       "What is your current occupation_Working Professional     2.7292      0.280      9.745      0.000       2.180       3.278\n",
       "What is your current occupation_not provided            -0.9704      0.219     -4.431      0.000      -1.400      -0.541\n",
       "========================================================================================================================\n",
       "\"\"\""
      ]
     },
     "execution_count": 903,
     "metadata": {},
     "output_type": "execute_result"
    }
   ],
   "source": [
    "X_train_sm = sm.add_constant(X_train)\n",
    "logm3 = sm.GLM(Y_train, X_train_sm, family = sm.families.Binomial())\n",
    "res = logm3.fit()\n",
    "res.summary()"
   ]
  },
  {
   "cell_type": "code",
   "execution_count": 904,
   "id": "ecf9b936",
   "metadata": {},
   "outputs": [
    {
     "data": {
      "text/html": [
       "<div>\n",
       "<style scoped>\n",
       "    .dataframe tbody tr th:only-of-type {\n",
       "        vertical-align: middle;\n",
       "    }\n",
       "\n",
       "    .dataframe tbody tr th {\n",
       "        vertical-align: top;\n",
       "    }\n",
       "\n",
       "    .dataframe thead th {\n",
       "        text-align: right;\n",
       "    }\n",
       "</style>\n",
       "<table border=\"1\" class=\"dataframe\">\n",
       "  <thead>\n",
       "    <tr style=\"text-align: right;\">\n",
       "      <th></th>\n",
       "      <th>Features</th>\n",
       "      <th>VIF</th>\n",
       "    </tr>\n",
       "  </thead>\n",
       "  <tbody>\n",
       "    <tr>\n",
       "      <th>16</th>\n",
       "      <td>What is your current occupation_Unemployed</td>\n",
       "      <td>9.87</td>\n",
       "    </tr>\n",
       "    <tr>\n",
       "      <th>5</th>\n",
       "      <td>Lead Origin_Landing Page Submission</td>\n",
       "      <td>6.82</td>\n",
       "    </tr>\n",
       "    <tr>\n",
       "      <th>15</th>\n",
       "      <td>Specialization_not provided</td>\n",
       "      <td>6.31</td>\n",
       "    </tr>\n",
       "    <tr>\n",
       "      <th>18</th>\n",
       "      <td>What is your current occupation_not provided</td>\n",
       "      <td>5.75</td>\n",
       "    </tr>\n",
       "    <tr>\n",
       "      <th>12</th>\n",
       "      <td>Specialization_Management_Related</td>\n",
       "      <td>5.33</td>\n",
       "    </tr>\n",
       "    <tr>\n",
       "      <th>3</th>\n",
       "      <td>Page Views Per Visit</td>\n",
       "      <td>2.83</td>\n",
       "    </tr>\n",
       "    <tr>\n",
       "      <th>7</th>\n",
       "      <td>Lead Source_Olark Chat</td>\n",
       "      <td>2.80</td>\n",
       "    </tr>\n",
       "    <tr>\n",
       "      <th>1</th>\n",
       "      <td>TotalVisits</td>\n",
       "      <td>2.27</td>\n",
       "    </tr>\n",
       "    <tr>\n",
       "      <th>4</th>\n",
       "      <td>A free copy of Mastering The Interview</td>\n",
       "      <td>2.25</td>\n",
       "    </tr>\n",
       "    <tr>\n",
       "      <th>6</th>\n",
       "      <td>Lead Origin_Lead Add Form</td>\n",
       "      <td>2.15</td>\n",
       "    </tr>\n",
       "    <tr>\n",
       "      <th>17</th>\n",
       "      <td>What is your current occupation_Working Profes...</td>\n",
       "      <td>2.05</td>\n",
       "    </tr>\n",
       "    <tr>\n",
       "      <th>11</th>\n",
       "      <td>Specialization_Business Administration</td>\n",
       "      <td>1.39</td>\n",
       "    </tr>\n",
       "    <tr>\n",
       "      <th>10</th>\n",
       "      <td>Lead Source_Welingak Website</td>\n",
       "      <td>1.36</td>\n",
       "    </tr>\n",
       "    <tr>\n",
       "      <th>8</th>\n",
       "      <td>Lead Source_Organic Search</td>\n",
       "      <td>1.36</td>\n",
       "    </tr>\n",
       "    <tr>\n",
       "      <th>2</th>\n",
       "      <td>Total Time Spent on Website</td>\n",
       "      <td>1.33</td>\n",
       "    </tr>\n",
       "    <tr>\n",
       "      <th>13</th>\n",
       "      <td>Specialization_Media and Advertising</td>\n",
       "      <td>1.22</td>\n",
       "    </tr>\n",
       "    <tr>\n",
       "      <th>14</th>\n",
       "      <td>Specialization_Travel and Tourism</td>\n",
       "      <td>1.22</td>\n",
       "    </tr>\n",
       "    <tr>\n",
       "      <th>0</th>\n",
       "      <td>Do Not Email</td>\n",
       "      <td>1.11</td>\n",
       "    </tr>\n",
       "    <tr>\n",
       "      <th>9</th>\n",
       "      <td>Lead Source_Social Media</td>\n",
       "      <td>1.03</td>\n",
       "    </tr>\n",
       "  </tbody>\n",
       "</table>\n",
       "</div>"
      ],
      "text/plain": [
       "                                             Features   VIF\n",
       "16         What is your current occupation_Unemployed  9.87\n",
       "5                 Lead Origin_Landing Page Submission  6.82\n",
       "15                        Specialization_not provided  6.31\n",
       "18       What is your current occupation_not provided  5.75\n",
       "12                  Specialization_Management_Related  5.33\n",
       "3                                Page Views Per Visit  2.83\n",
       "7                              Lead Source_Olark Chat  2.80\n",
       "1                                         TotalVisits  2.27\n",
       "4              A free copy of Mastering The Interview  2.25\n",
       "6                           Lead Origin_Lead Add Form  2.15\n",
       "17  What is your current occupation_Working Profes...  2.05\n",
       "11             Specialization_Business Administration  1.39\n",
       "10                       Lead Source_Welingak Website  1.36\n",
       "8                          Lead Source_Organic Search  1.36\n",
       "2                         Total Time Spent on Website  1.33\n",
       "13               Specialization_Media and Advertising  1.22\n",
       "14                  Specialization_Travel and Tourism  1.22\n",
       "0                                        Do Not Email  1.11\n",
       "9                            Lead Source_Social Media  1.03"
      ]
     },
     "execution_count": 904,
     "metadata": {},
     "output_type": "execute_result"
    }
   ],
   "source": [
    "# Make a VIF dataframe for all the variables present\n",
    "from statsmodels.stats.outliers_influence import variance_inflation_factor\n",
    "vif = pd.DataFrame()\n",
    "vif['Features'] = X_train.columns\n",
    "vif['VIF'] = [variance_inflation_factor(X_train.values, i) for i in range(X_train.shape[1])]\n",
    "vif['VIF'] = round(vif['VIF'], 2)\n",
    "vif = vif.sort_values(by = \"VIF\", ascending = False)\n",
    "vif"
   ]
  },
  {
   "cell_type": "markdown",
   "id": "177a3365",
   "metadata": {},
   "source": [
    "   ## all VIF are coming below 10\n",
    "   "
   ]
  },
  {
   "cell_type": "code",
   "execution_count": 905,
   "id": "f8fd878d",
   "metadata": {},
   "outputs": [],
   "source": [
    "y_train_pred = res.predict(X_train_sm)"
   ]
  },
  {
   "cell_type": "code",
   "execution_count": 906,
   "id": "f5ebaa4a",
   "metadata": {},
   "outputs": [],
   "source": [
    "y_train_pred = y_train_pred.values.reshape(-1)"
   ]
  },
  {
   "cell_type": "code",
   "execution_count": 924,
   "id": "6335cfba",
   "metadata": {},
   "outputs": [
    {
     "data": {
      "text/html": [
       "<div>\n",
       "<style scoped>\n",
       "    .dataframe tbody tr th:only-of-type {\n",
       "        vertical-align: middle;\n",
       "    }\n",
       "\n",
       "    .dataframe tbody tr th {\n",
       "        vertical-align: top;\n",
       "    }\n",
       "\n",
       "    .dataframe thead th {\n",
       "        text-align: right;\n",
       "    }\n",
       "</style>\n",
       "<table border=\"1\" class=\"dataframe\">\n",
       "  <thead>\n",
       "    <tr style=\"text-align: right;\">\n",
       "      <th></th>\n",
       "      <th>converted</th>\n",
       "      <th>converted_prob</th>\n",
       "      <th>Prospect ID</th>\n",
       "    </tr>\n",
       "  </thead>\n",
       "  <tbody>\n",
       "    <tr>\n",
       "      <th>0</th>\n",
       "      <td>1</td>\n",
       "      <td>0.784689</td>\n",
       "      <td>9196</td>\n",
       "    </tr>\n",
       "    <tr>\n",
       "      <th>1</th>\n",
       "      <td>0</td>\n",
       "      <td>0.316858</td>\n",
       "      <td>4696</td>\n",
       "    </tr>\n",
       "    <tr>\n",
       "      <th>2</th>\n",
       "      <td>0</td>\n",
       "      <td>0.074016</td>\n",
       "      <td>3274</td>\n",
       "    </tr>\n",
       "    <tr>\n",
       "      <th>3</th>\n",
       "      <td>0</td>\n",
       "      <td>0.246297</td>\n",
       "      <td>2164</td>\n",
       "    </tr>\n",
       "    <tr>\n",
       "      <th>4</th>\n",
       "      <td>1</td>\n",
       "      <td>0.806087</td>\n",
       "      <td>1667</td>\n",
       "    </tr>\n",
       "  </tbody>\n",
       "</table>\n",
       "</div>"
      ],
      "text/plain": [
       "   converted  converted_prob  Prospect ID\n",
       "0          1        0.784689         9196\n",
       "1          0        0.316858         4696\n",
       "2          0        0.074016         3274\n",
       "3          0        0.246297         2164\n",
       "4          1        0.806087         1667"
      ]
     },
     "execution_count": 924,
     "metadata": {},
     "output_type": "execute_result"
    }
   ],
   "source": [
    "y_train_pred_final = pd.DataFrame({'converted':Y_train.values, 'converted_prob':y_train_pred})\n",
    "y_train_pred_final['Prospect ID'] = Y_train.index\n",
    "y_train_pred_final.head()"
   ]
  },
  {
   "cell_type": "code",
   "execution_count": 926,
   "id": "1c9b4441",
   "metadata": {},
   "outputs": [
    {
     "data": {
      "text/plain": [
       "array([[3455,  427],\n",
       "       [ 814, 1571]])"
      ]
     },
     "execution_count": 926,
     "metadata": {},
     "output_type": "execute_result"
    }
   ],
   "source": [
    "from sklearn import metrics\n",
    "import math\n",
    "\n",
    "y_train_pred_final.predicted = y_train_pred_final.converted_prob.map(lambda x:  round(x))\n",
    "confusion_matrix = metrics.confusion_matrix(y_train_pred_final.converted, y_train_pred_final.predicted )\n",
    "confusion_matrix"
   ]
  },
  {
   "cell_type": "code",
   "execution_count": 927,
   "id": "62afdc65",
   "metadata": {},
   "outputs": [
    {
     "name": "stdout",
     "output_type": "stream",
     "text": [
      "0.8019786181586086\n"
     ]
    }
   ],
   "source": [
    "print(metrics.accuracy_score(y_train_pred_final.converted, y_train_pred_final.predicted))"
   ]
  },
  {
   "cell_type": "code",
   "execution_count": 933,
   "id": "fa9aba75",
   "metadata": {},
   "outputs": [
    {
     "name": "stdout",
     "output_type": "stream",
     "text": [
      "Sensitivity is  65.87 %\n",
      "Specificity is  89.0 %\n"
     ]
    }
   ],
   "source": [
    "TP = confusion_matrix[1,1] # true positive \n",
    "TN = confusion_matrix[0,0] # true negatives\n",
    "FP = confusion_matrix[0,1] # false positives\n",
    "FN = confusion_matrix[1,0] # false negatives\n",
    "Sensitivity = round(TP / float(TP+FN)*100,2)\n",
    "print('Sensitivity is ',Sensitivity,'%')\n",
    "\n",
    "Specificity = round(TN / float(TN+FP)*100,2)\n",
    "print('Specificity is ',Specificity,'%')\n"
   ]
  },
  {
   "cell_type": "code",
   "execution_count": 934,
   "id": "5de3db91",
   "metadata": {},
   "outputs": [],
   "source": [
    "# ROC function\n",
    "def draw_roc( actual, probs ):\n",
    "    fpr, tpr, thresholds = metrics.roc_curve( actual, probs,\n",
    "                                              drop_intermediate = False )\n",
    "    auc_score = metrics.roc_auc_score( actual, probs )\n",
    "    plt.figure(figsize=(5, 5))\n",
    "    plt.plot( fpr, tpr, label='ROC curve (area = %0.2f)' % auc_score )\n",
    "    plt.plot([0, 1], [0, 1], 'k--')\n",
    "    plt.xlim([0.0, 1.0])\n",
    "    plt.ylim([0.0, 1.05])\n",
    "    plt.xlabel('False Positive Rate or [1 - True Negative Rate]')\n",
    "    plt.ylabel('True Positive Rate')\n",
    "    plt.title('Receiver operating characteristic example')\n",
    "    plt.legend(loc=\"lower right\")\n",
    "    plt.show()\n",
    "\n",
    "    return None"
   ]
  },
  {
   "cell_type": "code",
   "execution_count": 938,
   "id": "6d51a4fc",
   "metadata": {},
   "outputs": [],
   "source": [
    "fpr, tpr, thresholds = metrics.roc_curve( y_train_pred_final.converted, y_train_pred_final.converted_prob, drop_intermediate = False )\n"
   ]
  },
  {
   "cell_type": "code",
   "execution_count": 939,
   "id": "0a74164c",
   "metadata": {},
   "outputs": [
    {
     "data": {
      "image/png": "[encoded data removed]",
      "text/plain": [
       "<Figure size 500x500 with 1 Axes>"
      ]
     },
     "metadata": {},
     "output_type": "display_data"
    }
   ],
   "source": [
    "\n",
    "draw_roc(y_train_pred_final.converted, y_train_pred_final.converted_prob)"
   ]
  },
  {
   "cell_type": "markdown",
   "id": "ecb3a219",
   "metadata": {},
   "source": [
    "## Finding Optimal Cutoff Point\n"
   ]
  },
  {
   "cell_type": "code",
   "execution_count": 941,
   "id": "f0117780",
   "metadata": {},
   "outputs": [
    {
     "data": {
      "text/html": [
       "<div>\n",
       "<style scoped>\n",
       "    .dataframe tbody tr th:only-of-type {\n",
       "        vertical-align: middle;\n",
       "    }\n",
       "\n",
       "    .dataframe tbody tr th {\n",
       "        vertical-align: top;\n",
       "    }\n",
       "\n",
       "    .dataframe thead th {\n",
       "        text-align: right;\n",
       "    }\n",
       "</style>\n",
       "<table border=\"1\" class=\"dataframe\">\n",
       "  <thead>\n",
       "    <tr style=\"text-align: right;\">\n",
       "      <th></th>\n",
       "      <th>converted</th>\n",
       "      <th>converted_prob</th>\n",
       "      <th>Prospect ID</th>\n",
       "      <th>0.0</th>\n",
       "      <th>0.1</th>\n",
       "      <th>0.2</th>\n",
       "      <th>0.3</th>\n",
       "      <th>0.4</th>\n",
       "      <th>0.5</th>\n",
       "      <th>0.6</th>\n",
       "      <th>0.7</th>\n",
       "      <th>0.8</th>\n",
       "      <th>0.9</th>\n",
       "    </tr>\n",
       "  </thead>\n",
       "  <tbody>\n",
       "    <tr>\n",
       "      <th>0</th>\n",
       "      <td>1</td>\n",
       "      <td>0.784689</td>\n",
       "      <td>9196</td>\n",
       "      <td>1</td>\n",
       "      <td>1</td>\n",
       "      <td>1</td>\n",
       "      <td>1</td>\n",
       "      <td>1</td>\n",
       "      <td>1</td>\n",
       "      <td>1</td>\n",
       "      <td>1</td>\n",
       "      <td>0</td>\n",
       "      <td>0</td>\n",
       "    </tr>\n",
       "    <tr>\n",
       "      <th>1</th>\n",
       "      <td>0</td>\n",
       "      <td>0.316858</td>\n",
       "      <td>4696</td>\n",
       "      <td>1</td>\n",
       "      <td>1</td>\n",
       "      <td>1</td>\n",
       "      <td>1</td>\n",
       "      <td>0</td>\n",
       "      <td>0</td>\n",
       "      <td>0</td>\n",
       "      <td>0</td>\n",
       "      <td>0</td>\n",
       "      <td>0</td>\n",
       "    </tr>\n",
       "    <tr>\n",
       "      <th>2</th>\n",
       "      <td>0</td>\n",
       "      <td>0.074016</td>\n",
       "      <td>3274</td>\n",
       "      <td>1</td>\n",
       "      <td>0</td>\n",
       "      <td>0</td>\n",
       "      <td>0</td>\n",
       "      <td>0</td>\n",
       "      <td>0</td>\n",
       "      <td>0</td>\n",
       "      <td>0</td>\n",
       "      <td>0</td>\n",
       "      <td>0</td>\n",
       "    </tr>\n",
       "    <tr>\n",
       "      <th>3</th>\n",
       "      <td>0</td>\n",
       "      <td>0.246297</td>\n",
       "      <td>2164</td>\n",
       "      <td>1</td>\n",
       "      <td>1</td>\n",
       "      <td>1</td>\n",
       "      <td>0</td>\n",
       "      <td>0</td>\n",
       "      <td>0</td>\n",
       "      <td>0</td>\n",
       "      <td>0</td>\n",
       "      <td>0</td>\n",
       "      <td>0</td>\n",
       "    </tr>\n",
       "    <tr>\n",
       "      <th>4</th>\n",
       "      <td>1</td>\n",
       "      <td>0.806087</td>\n",
       "      <td>1667</td>\n",
       "      <td>1</td>\n",
       "      <td>1</td>\n",
       "      <td>1</td>\n",
       "      <td>1</td>\n",
       "      <td>1</td>\n",
       "      <td>1</td>\n",
       "      <td>1</td>\n",
       "      <td>1</td>\n",
       "      <td>1</td>\n",
       "      <td>0</td>\n",
       "    </tr>\n",
       "  </tbody>\n",
       "</table>\n",
       "</div>"
      ],
      "text/plain": [
       "   converted  converted_prob  Prospect ID  0.0  0.1  0.2  0.3  0.4  0.5  0.6  \\\n",
       "0          1        0.784689         9196    1    1    1    1    1    1    1   \n",
       "1          0        0.316858         4696    1    1    1    1    0    0    0   \n",
       "2          0        0.074016         3274    1    0    0    0    0    0    0   \n",
       "3          0        0.246297         2164    1    1    1    0    0    0    0   \n",
       "4          1        0.806087         1667    1    1    1    1    1    1    1   \n",
       "\n",
       "   0.7  0.8  0.9  \n",
       "0    1    0    0  \n",
       "1    0    0    0  \n",
       "2    0    0    0  \n",
       "3    0    0    0  \n",
       "4    1    1    0  "
      ]
     },
     "execution_count": 941,
     "metadata": {},
     "output_type": "execute_result"
    }
   ],
   "source": [
    "numbers = [float(x)/10 for x in range(10)]\n",
    "for num in numbers:\n",
    "    y_train_pred_final[num]= y_train_pred_final.converted_prob.map(lambda x: 1 if x > num else 0)\n",
    "y_train_pred_final.head()"
   ]
  },
  {
   "cell_type": "code",
   "execution_count": 951,
   "id": "6ad794f6",
   "metadata": {},
   "outputs": [
    {
     "name": "stdout",
     "output_type": "stream",
     "text": [
      "     prob  accuracy  sensitivity  specificity\n",
      "0.0   0.0  0.380565     1.000000     0.000000\n",
      "0.1   0.1  0.520983     0.985325     0.235703\n",
      "0.2   0.2  0.698739     0.907757     0.570325\n",
      "0.3   0.3  0.787299     0.770650     0.797527\n",
      "0.4   0.4  0.803893     0.719078     0.856002\n",
      "0.5   0.5  0.801979     0.658700     0.890005\n",
      "0.6   0.6  0.783788     0.567715     0.916538\n",
      "0.7   0.7  0.763842     0.466667     0.946419\n",
      "0.8   0.8  0.740227     0.361845     0.972694\n",
      "0.9   0.9  0.707037     0.245702     0.990469\n"
     ]
    }
   ],
   "source": [
    "cutoff = pd.DataFrame( columns = ['prob','accuracy','sensitivity','specificity'])\n",
    "from sklearn.metrics import confusion_matrix\n",
    "\n",
    "\n",
    "pnum = [0.0,0.1,0.2,0.3,0.4,0.5,0.6,0.7,0.8,0.9]\n",
    "for i in pnum:\n",
    "    temp_cf = metrics.confusion_matrix(y_train_pred_final.converted, y_train_pred_final[i] )\n",
    "    accuracy = (temp_cf[0,0]+temp_cf[1,1])/sum(sum(temp_cf))\n",
    "    \n",
    "    specificity = temp_cf[0,0]/(temp_cf[0,0]+temp_cf[0,1])\n",
    "    sensitivity = temp_cf[1,1]/(temp_cf[1,0]+temp_cf[1,1])\n",
    "    cutoff.loc[i] =[ i ,accuracy,sensitivity,specificity]\n",
    "print(cutoff)"
   ]
  },
  {
   "cell_type": "code",
   "execution_count": 954,
   "id": "994ff88b",
   "metadata": {},
   "outputs": [
    {
     "data": {
      "image/png": "[encoded data removed]",
      "text/plain": [
       "<Figure size 640x480 with 1 Axes>"
      ]
     },
     "metadata": {},
     "output_type": "display_data"
    }
   ],
   "source": [
    "cutoff.plot.line(x='prob', y=['accuracy','sensitivity','specificity'])\n",
    "plt.show()"
   ]
  },
  {
   "cell_type": "code",
   "execution_count": 957,
   "id": "096b3608",
   "metadata": {},
   "outputs": [
    {
     "data": {
      "text/plain": [
       "array([[3234,  648],\n",
       "       [ 598, 1787]])"
      ]
     },
     "execution_count": 957,
     "metadata": {},
     "output_type": "execute_result"
    }
   ],
   "source": [
    "y_train_pred_final.predicted = y_train_pred_final.converted_prob.map(lambda x: 1 if x > 0.35 else 0)\n",
    "confusion_matrix = metrics.confusion_matrix(y_train_pred_final.converted, y_train_pred_final.predicted )\n",
    "confusion_matrix"
   ]
  },
  {
   "cell_type": "code",
   "execution_count": 958,
   "id": "139d5aab",
   "metadata": {},
   "outputs": [
    {
     "name": "stdout",
     "output_type": "stream",
     "text": [
      "0.8011807882559439\n"
     ]
    }
   ],
   "source": [
    "print(metrics.accuracy_score(y_train_pred_final.converted, y_train_pred_final.predicted))"
   ]
  },
  {
   "cell_type": "code",
   "execution_count": 959,
   "id": "7ddc6920",
   "metadata": {},
   "outputs": [
    {
     "name": "stdout",
     "output_type": "stream",
     "text": [
      "Sensitivity is  74.93 %\n",
      "Specificity is  83.31 %\n"
     ]
    }
   ],
   "source": [
    "TP = confusion_matrix[1,1] # true positive \n",
    "TN = confusion_matrix[0,0] # true negatives\n",
    "FP = confusion_matrix[0,1] # false positives\n",
    "FN = confusion_matrix[1,0] # false negatives\n",
    "Sensitivity = round(TP / float(TP+FN)*100,2)\n",
    "print('Sensitivity is ',Sensitivity,'%')\n",
    "\n",
    "Specificity = round(TN / float(TN+FP)*100,2)\n",
    "print('Specificity is ',Specificity,'%')"
   ]
  },
  {
   "cell_type": "markdown",
   "id": "2484494d",
   "metadata": {},
   "source": [
    "## PREDICTIONS ON TEST SET\n"
   ]
  },
  {
   "cell_type": "code",
   "execution_count": 990,
   "id": "ab904447",
   "metadata": {},
   "outputs": [
    {
     "data": {
      "text/html": [
       "<div>\n",
       "<style scoped>\n",
       "    .dataframe tbody tr th:only-of-type {\n",
       "        vertical-align: middle;\n",
       "    }\n",
       "\n",
       "    .dataframe tbody tr th {\n",
       "        vertical-align: top;\n",
       "    }\n",
       "\n",
       "    .dataframe thead th {\n",
       "        text-align: right;\n",
       "    }\n",
       "</style>\n",
       "<table border=\"1\" class=\"dataframe\">\n",
       "  <thead>\n",
       "    <tr style=\"text-align: right;\">\n",
       "      <th></th>\n",
       "      <th>Converted</th>\n",
       "      <th>conversion_prob</th>\n",
       "    </tr>\n",
       "  </thead>\n",
       "  <tbody>\n",
       "    <tr>\n",
       "      <th>0</th>\n",
       "      <td>0</td>\n",
       "      <td>0.121732</td>\n",
       "    </tr>\n",
       "    <tr>\n",
       "      <th>1</th>\n",
       "      <td>0</td>\n",
       "      <td>0.137516</td>\n",
       "    </tr>\n",
       "    <tr>\n",
       "      <th>2</th>\n",
       "      <td>0</td>\n",
       "      <td>0.010864</td>\n",
       "    </tr>\n",
       "    <tr>\n",
       "      <th>3</th>\n",
       "      <td>0</td>\n",
       "      <td>0.121696</td>\n",
       "    </tr>\n",
       "    <tr>\n",
       "      <th>4</th>\n",
       "      <td>1</td>\n",
       "      <td>0.132088</td>\n",
       "    </tr>\n",
       "  </tbody>\n",
       "</table>\n",
       "</div>"
      ],
      "text/plain": [
       "   Converted  conversion_prob\n",
       "0          0         0.121732\n",
       "1          0         0.137516\n",
       "2          0         0.010864\n",
       "3          0         0.121696\n",
       "4          1         0.132088"
      ]
     },
     "execution_count": 990,
     "metadata": {},
     "output_type": "execute_result"
    }
   ],
   "source": [
    " #Scaling numeric values\n",
    "X_test[['TotalVisits','Total Time Spent on Website','Page Views Per Visit']] = scaler.transform(X_test[['TotalVisits','Total Time Spent on Website','Page Views Per Visit']])\n",
    "col = X_train.columns\n",
    "X_test_sm = sm.add_constant(X_test[col])\n",
    "y_test_pred = res.predict(X_test_sm)\n",
    "y_pred_df = pd.DataFrame(y_test_pred)\n",
    "y_test_df = pd.DataFrame(Y_test)\n",
    "y_pred_df.reset_index(drop=True, inplace=True)\n",
    "y_test_df.reset_index(drop=True, inplace=True)\n",
    "y_pred_final = pd.concat([y_test_df, y_pred_df],axis=1)\n",
    "y_pred_final= y_pred_final.rename(columns = {0 : 'conversion_prob'})\n",
    "y_pred_final.head()"
   ]
  },
  {
   "cell_type": "code",
   "execution_count": 995,
   "id": "e62db327",
   "metadata": {},
   "outputs": [
    {
     "data": {
      "text/html": [
       "<div>\n",
       "<style scoped>\n",
       "    .dataframe tbody tr th:only-of-type {\n",
       "        vertical-align: middle;\n",
       "    }\n",
       "\n",
       "    .dataframe tbody tr th {\n",
       "        vertical-align: top;\n",
       "    }\n",
       "\n",
       "    .dataframe thead th {\n",
       "        text-align: right;\n",
       "    }\n",
       "</style>\n",
       "<table border=\"1\" class=\"dataframe\">\n",
       "  <thead>\n",
       "    <tr style=\"text-align: right;\">\n",
       "      <th></th>\n",
       "      <th>Converted</th>\n",
       "      <th>conversion_prob</th>\n",
       "      <th>final_predicted</th>\n",
       "    </tr>\n",
       "  </thead>\n",
       "  <tbody>\n",
       "    <tr>\n",
       "      <th>0</th>\n",
       "      <td>0</td>\n",
       "      <td>0.121732</td>\n",
       "      <td>0</td>\n",
       "    </tr>\n",
       "    <tr>\n",
       "      <th>1</th>\n",
       "      <td>0</td>\n",
       "      <td>0.137516</td>\n",
       "      <td>0</td>\n",
       "    </tr>\n",
       "    <tr>\n",
       "      <th>2</th>\n",
       "      <td>0</td>\n",
       "      <td>0.010864</td>\n",
       "      <td>0</td>\n",
       "    </tr>\n",
       "    <tr>\n",
       "      <th>3</th>\n",
       "      <td>0</td>\n",
       "      <td>0.121696</td>\n",
       "      <td>0</td>\n",
       "    </tr>\n",
       "    <tr>\n",
       "      <th>4</th>\n",
       "      <td>1</td>\n",
       "      <td>0.132088</td>\n",
       "      <td>0</td>\n",
       "    </tr>\n",
       "  </tbody>\n",
       "</table>\n",
       "</div>"
      ],
      "text/plain": [
       "   Converted  conversion_prob  final_predicted\n",
       "0          0         0.121732                0\n",
       "1          0         0.137516                0\n",
       "2          0         0.010864                0\n",
       "3          0         0.121696                0\n",
       "4          1         0.132088                0"
      ]
     },
     "execution_count": 995,
     "metadata": {},
     "output_type": "execute_result"
    }
   ],
   "source": [
    "y_pred_final['final_predicted'] = y_pred_final.conversion_prob.map(lambda x: 1 if x > 0.35 else 0)\n",
    "y_pred_final.head()"
   ]
  },
  {
   "cell_type": "code",
   "execution_count": 996,
   "id": "b02d8269",
   "metadata": {},
   "outputs": [
    {
     "data": {
      "text/plain": [
       "array([[1629,   47],\n",
       "       [ 664,  346]])"
      ]
     },
     "execution_count": 996,
     "metadata": {},
     "output_type": "execute_result"
    }
   ],
   "source": [
    "confusion_matrix = metrics.confusion_matrix(y_pred_final.Converted, y_pred_final.final_predicted )\n",
    "confusion_matrix"
   ]
  },
  {
   "cell_type": "code",
   "execution_count": 997,
   "id": "c3d9f64d",
   "metadata": {},
   "outputs": [
    {
     "data": {
      "text/plain": [
       "0.7352941176470589"
      ]
     },
     "execution_count": 997,
     "metadata": {},
     "output_type": "execute_result"
    }
   ],
   "source": [
    "metrics.accuracy_score(y_pred_final['Converted'], y_pred_final.final_predicted)"
   ]
  },
  {
   "cell_type": "code",
   "execution_count": 998,
   "id": "4494eda2",
   "metadata": {},
   "outputs": [
    {
     "name": "stdout",
     "output_type": "stream",
     "text": [
      "Sensitivity is  34.26 %\n",
      "Specificity is  97.2 %\n"
     ]
    }
   ],
   "source": [
    "TP = confusion_matrix[1,1] # true positive \n",
    "TN = confusion_matrix[0,0] # true negatives\n",
    "FP = confusion_matrix[0,1] # false positives\n",
    "FN = confusion_matrix[1,0] # false negatives\n",
    "Sensitivity = round(TP / float(TP+FN)*100,2)\n",
    "print('Sensitivity is ',Sensitivity,'%')\n",
    "\n",
    "Specificity = round(TN / float(TN+FP)*100,2)\n",
    "print('Specificity is ',Specificity,'%')\n"
   ]
  }
 ],
 "metadata": {
  "kernelspec": {
   "display_name": "Python 3 (ipykernel)",
   "language": "python",
   "name": "python3"
  },
  "language_info": {
   "codemirror_mode": {
    "name": "ipython",
    "version": 3
   },
   "file_extension": ".py",
   "mimetype": "text/x-python",
   "name": "python",
   "nbconvert_exporter": "python",
   "pygments_lexer": "ipython3",
   "version": "3.11.4"
  }
 },
 "nbformat": 4,
 "nbformat_minor": 5
}
